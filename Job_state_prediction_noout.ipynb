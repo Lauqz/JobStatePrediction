{
  "nbformat": 4,
  "nbformat_minor": 0,
  "metadata": {
    "colab": {
      "provenance": [],
      "toc_visible": true
    },
    "kernelspec": {
      "name": "python3",
      "display_name": "Python 3"
    },
    "language_info": {
      "name": "python"
    },
    "accelerator": "GPU",
    "gpuClass": "standard"
  },
  "cells": [
    {
      "cell_type": "markdown",
      "source": [
        "# Job state prediction\n",
        "## AI in Industry - Exam + Project work\n",
        "### Davide Buldrini (davide.buldrini@studio.unibo.it), Nicolò Donati (nicolo.donati4@studio.unibo.it), Guido Laudenzi (guido.laudenzi@studio.unibo.it)\n",
        "\n",
        "The purpose of this notebook is about predicting the output state of the job\n",
        "using only the information available prior to its execution.\n",
        "Potentially, it can be used to reduce the ques in HPC\n",
        "environments, skipping or giving low priority to jobs that are\n",
        "likely to not complete the execution.\n",
        "\n",
        "Plenty appreaches were implemented:\n",
        "\n",
        "* Time Series,\n",
        "* Random Forest classifier,\n",
        "* XGBoost classifier,\n",
        "* Sentence Bert using diffent classification heads,\n",
        "* TabTransformer,\n",
        "* GATE."
      ],
      "metadata": {
        "id": "gAJmwpgtcIUb"
      }
    },
    {
      "cell_type": "markdown",
      "source": [
        "## Configs"
      ],
      "metadata": {
        "id": "ZqFF4-EvqBAP"
      }
    },
    {
      "cell_type": "code",
      "source": [
        "!git clone https://github.com/yg211/explainable-metrics\n",
        "!mv /content/explainable-metrics/* /content/\n",
        "!rm -r /content/explainable-metrics"
      ],
      "metadata": {
        "id": "pSwIhg37U5Pm"
      },
      "execution_count": null,
      "outputs": []
    },
    {
      "cell_type": "code",
      "execution_count": null,
      "metadata": {
        "id": "XYoqcnTHcA2w"
      },
      "outputs": [],
      "source": [
        "!pip install lime\n",
        "!pip install shap\n",
        "!pip install datasets\n",
        "!pip install tensorflow-addons\n",
        "!pip install sentence_transformers\n",
        "\n",
        "import gc\n",
        "import lime\n",
        "import nltk\n",
        "import shap\n",
        "import torch\n",
        "import os, random\n",
        "import numpy as np\n",
        "import pandas as pd\n",
        "import seaborn as sns\n",
        "import xgboost as xgb\n",
        "import tensorflow as tf\n",
        "import lime.lime_tabular\n",
        "import multiprocessing as mp\n",
        "import matplotlib.pyplot as plt\n",
        "import tensorflow_addons as tfa\n",
        "\n",
        "from torch import nn\n",
        "from typing import Iterable\n",
        "from tensorflow import keras\n",
        "from datasets import Dataset\n",
        "from google.colab import drive\n",
        "from tensorflow.keras import layers\n",
        "from sklearn.utils import shuffle\n",
        "from sklearn.manifold import TSNE\n",
        "from sklearn.decomposition import PCA\n",
        "from sklearn.svm import LinearSVC, SVC\n",
        "from sts_pair_explainer import ExplainableSTS\n",
        "from sklearn.linear_model import LogisticRegression\n",
        "from sklearn.pipeline import Pipeline, make_pipeline\n",
        "from sklearn.model_selection import train_test_split\n",
        "from sklearn.metrics import f1_score, classification_report\n",
        "from sklearn.preprocessing import LabelEncoder, StandardScaler\n",
        "from sklearn.ensemble import StackingClassifier, VotingClassifier\n",
        "from sklearn.discriminant_analysis import LinearDiscriminantAnalysis\n",
        "from sklearn.multiclass import OneVsOneClassifier, OneVsRestClassifier\n",
        "from sklearn.ensemble import RandomForestClassifier, ExtraTreesClassifier\n",
        "from sklearn.preprocessing import StandardScaler, MinMaxScaler, OneHotEncoder\n",
        "from sklearn.naive_bayes import (GaussianNB, MultinomialNB, ComplementNB,\n",
        "                                BernoulliNB, CategoricalNB)\n",
        "from sentence_transformers import SentenceTransformer, losses, models\n",
        "from transformers import (DefaultDataCollator, TrainingArguments, Trainer,\n",
        "                         BertForSequenceClassification, BertTokenizer, set_seed)"
      ]
    },
    {
      "cell_type": "markdown",
      "source": [
        "Gate packages"
      ],
      "metadata": {
        "id": "l9tbJOd8xZHJ"
      }
    },
    {
      "cell_type": "code",
      "source": [
        "!pip install pytorch_tabular\n",
        "!pip install --upgrade torch\n",
        "\n",
        "from pytorch_tabular import TabularModel\n",
        "from pytorch_tabular.models import (\n",
        "    CategoryEmbeddingModelConfig,\n",
        "    FTTransformerConfig,\n",
        "    TabNetModelConfig,\n",
        "    GatedAdditiveTreeEnsembleConfig,\n",
        "    TabTransformerConfig,\n",
        "    AutoIntConfig\n",
        ")\n",
        "from pytorch_tabular.config import DataConfig, OptimizerConfig, TrainerConfig, ExperimentConfig\n",
        "from pytorch_tabular.models.common.heads import LinearHeadConfig\n",
        "nltk.download('punkt')"
      ],
      "metadata": {
        "id": "y4M9V2VtxWgx"
      },
      "execution_count": null,
      "outputs": []
    },
    {
      "cell_type": "code",
      "source": [
        "drive.mount('/content/gdrive')"
      ],
      "metadata": {
        "id": "SGtqiQHycHvD"
      },
      "execution_count": null,
      "outputs": []
    },
    {
      "cell_type": "markdown",
      "source": [
        "## Utils"
      ],
      "metadata": {
        "id": "YWz8nAJfEUIq"
      }
    },
    {
      "cell_type": "code",
      "source": [
        "# Mapping for report; depends on chosen labels\n",
        "d = {0: 'completed', 1: 'failed', 2: 'oom', 3:'time-out'}"
      ],
      "metadata": {
        "id": "fR9tdwFYORUn"
      },
      "execution_count": null,
      "outputs": []
    },
    {
      "cell_type": "code",
      "source": [
        "# Reproducibility setting seed 42\n",
        "\n",
        "def seed_everything(seed: int):\n",
        "    random.seed(seed)\n",
        "    os.environ['PYTHONHASHSEED'] = str(seed)\n",
        "    np.random.seed(seed)\n",
        "    set_seed(seed)\n",
        "    torch.manual_seed(seed)\n",
        "    torch.cuda.manual_seed(seed)\n",
        "    torch.backends.cudnn.deterministic = True\n",
        "    torch.backends.cudnn.benchmark = False\n",
        "\n",
        "s = 42\n",
        "seed_everything(s)"
      ],
      "metadata": {
        "id": "Qa5SxOm4sK-e"
      },
      "execution_count": null,
      "outputs": []
    },
    {
      "cell_type": "code",
      "source": [
        "class MultiColumnLabelEncoder:\n",
        "    def __init__(self, columns = None):\n",
        "        self.columns = columns # array of column names to encode\n",
        "\n",
        "    def fit(self,X,y=None):\n",
        "        return self # not relevant here\n",
        "\n",
        "    def transform(self,X):\n",
        "        '''\n",
        "        Transforms columns of X specified in self.columns using\n",
        "        LabelEncoder(). If no columns specified, transforms all\n",
        "        columns in X.\n",
        "        '''\n",
        "        output = X.copy()\n",
        "        if self.columns is not None:\n",
        "            for col in self.columns:\n",
        "                output[col] = LabelEncoder().fit_transform(output[col])\n",
        "        else:\n",
        "            for colname,col in output.iteritems():\n",
        "                output[colname] = LabelEncoder().fit_transform(col)\n",
        "        return output\n",
        "\n",
        "    def fit_transform(self,X,y=None):\n",
        "        return self.fit(X,y).transform(X)"
      ],
      "metadata": {
        "id": "CqmcW-9Mdj4W"
      },
      "execution_count": null,
      "outputs": []
    },
    {
      "cell_type": "code",
      "source": [
        "def date_dataset():\n",
        "  #load\n",
        "  dataset = pd.read_parquet('/content/gdrive/MyDrive/job_state/job_tres_state_parsed_date.parquet')\n",
        "\n",
        "  #standard preprocess\n",
        "  dataset['req_nodes'].replace('', '['']', inplace=True)\n",
        "  dataset['time_limit'].replace('', 0, inplace=True)\n",
        "  dataset['cpus_per_task'].replace('', 0, inplace=True)\n",
        "  dataset = dataset.drop(['start_time','end_time'], axis=1)\n",
        "  dataset = dataset.drop(dataset[dataset['job_state']=='CANCELLED'].index)\n",
        "  dataset = dataset.drop(dataset[dataset['job_state']=='NODE_FAIL'].index)\n",
        "  dataset = dataset.drop(dataset[dataset['job_state']=='PREEMPTED'].index)\n",
        "  dataset = dataset.drop(['exclusive','ntasks_per_node'], axis=1)\n",
        "  dataset['time_limit'] = dataset['time_limit'].astype(int)\n",
        "  dataset.insert(len(dataset.columns)-1, 'job_state', dataset.pop('job_state'))\n",
        "\n",
        "  return dataset"
      ],
      "metadata": {
        "id": "6E6iaaRSc0WP"
      },
      "execution_count": null,
      "outputs": []
    },
    {
      "cell_type": "code",
      "source": [
        "def plot_dataframe(data, vrows, labels=None, vmin=-1.96, vmax=1.96,\n",
        "        figsize=(9, 3), s=4):\n",
        "    plt.figure(figsize=figsize)\n",
        "    plt.imshow(data.T.iloc[:, :], aspect='auto',\n",
        "            cmap='RdBu', vmin=vmin, vmax=vmax)\n",
        "    if labels is not None:\n",
        "        # nonzero = data.index[labels != 0]\n",
        "        ncol = len(data.columns)\n",
        "        lvl = - 0.05 * ncol\n",
        "        # plt.scatter(nonzero, lvl*np.ones(len(nonzero)),\n",
        "        #         s=s, color='tab:orange')\n",
        "        plt.scatter(labels.index, np.ones(len(labels)) * lvl,\n",
        "                s=s,\n",
        "                color=plt.get_cmap('tab10')(labels))\n",
        "\n",
        "    for i in vrows:\n",
        "      plt.axvline(x = i, color = 'g')\n",
        "    plt.tight_layout()"
      ],
      "metadata": {
        "id": "HZ1dGSwSgtpD"
      },
      "execution_count": null,
      "outputs": []
    },
    {
      "cell_type": "code",
      "source": [
        "def load_dataset(train = True, undersample = False):\n",
        "  #load\n",
        "  if train:\n",
        "    dataset = pd.read_parquet('/content/gdrive/MyDrive/job_state/jobs_table_state_parsed.parquet')\n",
        "  else:\n",
        "    dataset = pd.read_parquet('/content/gdrive/MyDrive/job_state/job_tres_state_parsed.parquet')\n",
        "\n",
        "  #standard preprocess\n",
        "  dataset['req_nodes'].replace('', '['']', inplace=True)\n",
        "  dataset['time_limit'].replace('', 0, inplace=True)\n",
        "  dataset['cpus_per_task'].replace('', 0, inplace=True)\n",
        "  dataset = dataset.drop(['start_time','end_time'], axis=1)\n",
        "  dataset = dataset.drop(dataset[dataset['job_state']=='CANCELLED'].index)\n",
        "  dataset = dataset.drop(dataset[dataset['job_state']=='NODE_FAIL'].index)\n",
        "  dataset = dataset.drop(dataset[dataset['job_state']=='PREEMPTED'].index)\n",
        "  if train:\n",
        "    dataset = dataset.drop(['shared','nodes_allocated'], axis=1)\n",
        "    dataset.rename(columns = {'num_cpus':'cpu', 'num_nodes':'node', 'num_gpus': 'gres/gpu', 'memory': 'mem'}, inplace = True)\n",
        "    dataset['time_limit'] = dataset['time_limit'].astype(int)*60\n",
        "    dataset['cpus_per_task'] = dataset['cpus_per_task'].astype(int)\n",
        "    dataset['cpu'] = dataset['cpu'].astype(int)\n",
        "    dataset['node'] = dataset['node'].astype(int)\n",
        "    dataset['mem'] = dataset['mem'].astype(int)\n",
        "  else:\n",
        "    dataset = dataset.drop(['exclusive','ntasks_per_node'], axis=1)\n",
        "    dataset['time_limit'] = dataset['time_limit'].astype(int)\n",
        "\n",
        "  #drop duplicates\n",
        "  dataset = dataset.drop_duplicates(subset=[i for i in list(dataset) if i!=\"job_id\" or \"job_state\"])\n",
        "\n",
        "  #optional undersampling\n",
        "  if undersample:\n",
        "    completed = dataset[dataset['job_state']=='COMPLETED']\n",
        "    uncompleted = dataset[dataset['job_state']!='COMPLETED']\n",
        "    completed = completed.sample(n=len(uncompleted), random_state=s)\n",
        "    dataset = pd.concat([completed,uncompleted],axis=0)\n",
        "\n",
        "  dataset.insert(len(dataset.columns)-1, 'job_state', dataset.pop('job_state'))\n",
        "  return shuffle(dataset, random_state=s)"
      ],
      "metadata": {
        "id": "-2NbYfir22ha"
      },
      "execution_count": null,
      "outputs": []
    },
    {
      "cell_type": "code",
      "source": [
        "def manage_dataset(setup=0, real = 0):\n",
        "    types = {\"job_id\": object, \"user_id\": object, \"group_id\": object,\n",
        "          \"cpus_per_task\": \"int64\", \"command\": object, \"name\": object,\n",
        "          \"account\": object, \"partition\": object, \"qos\": object,\n",
        "          \"time_limit\": \"int64\", \"req_nodes\": object, \"cpu\": \"int64\",\n",
        "          \"mem\": \"float64\", \"node\": \"int64\", \"gres/gpu\": \"int64\",\n",
        "    }\n",
        "    if real == 0:\n",
        "        if setup == 0:\n",
        "              # Train e test D1\n",
        "              df = load_dataset(train = False, undersample = True)\n",
        "              df_train, df_val = train_test_split(df, test_size = 0.2, random_state = s)\n",
        "        elif setup == 1:\n",
        "              df = load_dataset(train = True, undersample = True)\n",
        "              for k, v in types.items():\n",
        "                  df[k] = df[k].astype(v)\n",
        "              df_train, df_val = train_test_split(df, test_size = 0.2, random_state = s)\n",
        "        elif setup == 2:\n",
        "              df_train = load_dataset(train = False, undersample = True)\n",
        "              df_val = load_dataset(train = True, undersample = True)\n",
        "              df_val = df_val[~df_val.job_id.isin(df_train.job_id.values.tolist())]\n",
        "              for k, v in types.items():\n",
        "                  df_val[k] = df_val[k].astype(v)\n",
        "        elif setup == 3:\n",
        "              df_train = load_dataset(train = True, undersample = True)\n",
        "              df_val = load_dataset(train = False, undersample = True)\n",
        "              df_train = df_train[~df_train.job_id.isin(df_val.job_id.values.tolist())]\n",
        "              for k, v in types.items():\n",
        "                  df_train[k] = df_train[k].astype(v)\n",
        "              df_train, _ = train_test_split(df_train, test_size = 0.2, random_state = 42)\n",
        "        else:\n",
        "              return \"Something's wrong with the input\"\n",
        "    elif real == 1:\n",
        "        if setup == 0:\n",
        "              # Train e test D1\n",
        "              df = load_dataset(train = False, undersample = False)\n",
        "              df_train, df_val = train_test_split(df, test_size = 0.2, random_state = s)\n",
        "              completed = df_train[df_train['job_state']=='COMPLETED']\n",
        "              uncompleted = df_train[df_train['job_state']!='COMPLETED']\n",
        "              completed = completed.sample(n=len(uncompleted), random_state=s)\n",
        "              df_train = pd.concat([completed,uncompleted],axis=0)\n",
        "              df_val, _ = train_test_split(df_val, test_size = 0.3, random_state = s)\n",
        "        elif setup == 1:\n",
        "              df = load_dataset(train = True, undersample = False)\n",
        "              for k, v in types.items():\n",
        "                  df[k] = df[k].astype(v)\n",
        "              df_train, df_val = train_test_split(df, test_size = 0.2, random_state = s)\n",
        "              completed = df_train[df_train['job_state']=='COMPLETED']\n",
        "              uncompleted = df_train[df_train['job_state']!='COMPLETED']\n",
        "              completed = completed.sample(n=len(uncompleted), random_state=s)\n",
        "              df_train = pd.concat([completed,uncompleted],axis=0)\n",
        "              df_val, _ = train_test_split(df_val, test_size = 0.3, random_state = s)\n",
        "        elif setup == 2:\n",
        "              df_train = load_dataset(train = False, undersample = True)\n",
        "              df_val = load_dataset(train = True, undersample = False)\n",
        "              df_val = df_val[~df_val.job_id.isin(df_train.job_id.values.tolist())]\n",
        "              for k, v in types.items():\n",
        "                  df_val[k] = df_val[k].astype(v)\n",
        "              df_val, _ = train_test_split(df_val, test_size = 0.5, random_state = s)\n",
        "        elif setup == 3:\n",
        "              df_train = load_dataset(train = True, undersample = True)\n",
        "              df_val = load_dataset(train = False, undersample = False)\n",
        "              df_train = df_train[~df_train.job_id.isin(df_val.job_id.values.tolist())]\n",
        "              for k, v in types.items():\n",
        "                  df_train[k] = df_train[k].astype(v)\n",
        "              df_train, _ = train_test_split(df_train, test_size = 0.2, random_state = s)\n",
        "              df_val, _ = train_test_split(df_val, test_size = 0.3, random_state = s)\n",
        "        else:\n",
        "              return \"Something's wrong with the input\"\n",
        "    else:\n",
        "        return \"Something's wrong with the input\"\n",
        "\n",
        "    print('Data shape:', df_train.shape, df_val.shape)\n",
        "\n",
        "    le = LabelEncoder()\n",
        "    le.fit(df_train['job_state'])\n",
        "    df_train['job_state'] = le.transform(df_train['job_state'])\n",
        "    df_val['job_state'] = le.transform(df_val['job_state'])\n",
        "\n",
        "    print('### Train stats ###')\n",
        "    print('Completed jobs:', len(df_train[df_train['job_state']==0]))\n",
        "    print('Failed jobs:', len(df_train[df_train['job_state']==1]))\n",
        "    print('OOM jobs:', len(df_train[df_train['job_state']==2]))\n",
        "    print('Time-out jobs:', len(df_train[df_train['job_state']==3]))\n",
        "    print('### Val stats ###')\n",
        "    print('Completed jobs:', len(df_val[df_val['job_state']==0]))\n",
        "    print('Failed jobs:', len(df_val[df_val['job_state']==1]))\n",
        "    print('OOM jobs:', len(df_val[df_val['job_state']==2]))\n",
        "    print('Time-out jobs:', len(df_val[df_val['job_state']==3]))\n",
        "\n",
        "    return df_train, df_val"
      ],
      "metadata": {
        "id": "QqCrYZd8Cils"
      },
      "execution_count": null,
      "outputs": []
    },
    {
      "cell_type": "code",
      "source": [
        "class SBertBaseline:\n",
        "    def __init__(self):\n",
        "        self.classifier = RandomForestClassifier(max_depth=20,\n",
        "                                                 verbose=True,\n",
        "                                                 random_state=42)\n",
        "        self.encoder = SentenceTransformer('all-MiniLM-L6-v2') #all-mpnet-base-v2\n",
        "\n",
        "        # word_embedding_model = models.Transformer('allenai/scibert_scivocab_uncased')\n",
        "        # pooling_model = models.Pooling(word_embedding_model.get_word_embedding_dimension())\n",
        "        # self.encoder = SentenceTransformer(modules=[word_embedding_model, pooling_model])\n",
        "\n",
        "    def prepare_data(self, data:Iterable, parallel:bool = False) -> Iterable:\n",
        "        \"\"\"_summary_\n",
        "\n",
        "        Args:\n",
        "            data (Iterable): Data to be parsed\n",
        "            parallel (bool, optional): If true uses multiprocessing, make sure to keep the same order of the original data, not granted with async. Defaults to False.\n",
        "\n",
        "        Returns:\n",
        "            Iterable: The parsed data\n",
        "        \"\"\"\n",
        "        if type(data[0]) != str:\n",
        "            data = list(map(self._embed_entry, data))\n",
        "        if parallel:\n",
        "            with mp.Pool(os.cpu_count()) as p:\n",
        "                res = p.map_async(self.encoder.encode, data).get()\n",
        "            return res\n",
        "        return self.encoder.encode(data)\n",
        "\n",
        "    def fit(self, x_train:Iterable, y_train:Iterable) -> None:\n",
        "        \"\"\"_summary_\n",
        "\n",
        "        Args:\n",
        "            x_train (Iterable): training features\n",
        "            y_train (Iterable): training labels\n",
        "        \"\"\"\n",
        "        self.classifier = self.classifier.fit(self.prepare_data(x_train), y_train)\n",
        "\n",
        "    def predict(self, x) -> Iterable:\n",
        "        \"\"\"_summary_\n",
        "\n",
        "        Args:\n",
        "            x (_type_): Data to be analyzed\n",
        "\n",
        "        Returns:\n",
        "            Iterable: The labels predicted for the input data\n",
        "        \"\"\"\n",
        "        return self.classifier.predict(self.prepare_data(x))\n",
        "\n",
        "    def predict_proba(self, x) -> Iterable:\n",
        "        \"\"\"_summary_\n",
        "\n",
        "        Args:\n",
        "            x (_type_): Data to be analyzed\n",
        "\n",
        "        Returns:\n",
        "            Iterable: The labels predicted probabilities for the input data\n",
        "        \"\"\"\n",
        "        return self.classifier.predict_proba(x) #self.prepare_data(x)\n",
        "\n",
        "    @staticmethod\n",
        "    def _embed_entry(entry:dict, use_keys = True):\n",
        "        return \",\".join([f\"{str(k)}={str(entry[k])}\" for k in entry])"
      ],
      "metadata": {
        "id": "eqJSdkf7K5d5"
      },
      "execution_count": null,
      "outputs": []
    },
    {
      "cell_type": "code",
      "source": [
        "class SBertXGBoost:\n",
        "    def __init__(self):\n",
        "        self.classifier = xgb.XGBClassifier(objective='multi:softmax',\n",
        "                                            num_class=4,\n",
        "                                            tree_method = \"gpu_hist\",\n",
        "                                            learning_rate=0.1,\n",
        "                                            max_depth=20,\n",
        "                                            seed=42)\n",
        "        self.encoder = SentenceTransformer('all-MiniLM-L6-v2') #all-mpnet-base-v2\n",
        "\n",
        "        # word_embedding_model = models.Transformer('allenai/scibert_scivocab_uncased')\n",
        "        # pooling_model = models.Pooling(word_embedding_model.get_word_embedding_dimension())\n",
        "        # self.encoder = SentenceTransformer(modules=[word_embedding_model, pooling_model])\n",
        "\n",
        "\n",
        "    def prepare_data(self, data:Iterable, parallel:bool = False) -> Iterable:\n",
        "        \"\"\"_summary_\n",
        "\n",
        "        Args:\n",
        "            data (Iterable): Data to be parsed\n",
        "            parallel (bool, optional): If true uses multiprocessing, make sure to keep the same order of the original data, not granted with async. Defaults to False.\n",
        "\n",
        "        Returns:\n",
        "            Iterable: The parsed data\n",
        "        \"\"\"\n",
        "        if type(data[0]) != str:\n",
        "            data = list(map(self._embed_entry, data))\n",
        "        if parallel:\n",
        "            with mp.Pool(os.cpu_count()) as p:\n",
        "                res = p.map_async(self.encoder.encode, data).get()\n",
        "            return res\n",
        "        return self.encoder.encode(data)\n",
        "\n",
        "    def fit(self, x_train:Iterable, y_train:Iterable) -> None:\n",
        "        \"\"\"_summary_\n",
        "\n",
        "        Args:\n",
        "            x_train (Iterable): training features\n",
        "            y_train (Iterable): training labels\n",
        "        \"\"\"\n",
        "        self.classifier = self.classifier.fit(self.prepare_data(x_train), y_train)\n",
        "\n",
        "    def predict(self, x) -> Iterable:\n",
        "        \"\"\"_summary_\n",
        "\n",
        "        Args:\n",
        "            x (_type_): Data to be analyzed\n",
        "\n",
        "        Returns:\n",
        "            Iterable: The labels predicted for the input data\n",
        "        \"\"\"\n",
        "        return self.classifier.predict(self.prepare_data(x))\n",
        "\n",
        "    @staticmethod\n",
        "    def _embed_entry(entry:dict, use_keys = True):\n",
        "        return \",\".join([f\"{str(k)}={str(entry[k])}\" for k in entry])"
      ],
      "metadata": {
        "id": "eB-tKl6r_agt"
      },
      "execution_count": null,
      "outputs": []
    },
    {
      "cell_type": "markdown",
      "source": [
        "## Anomaly detection"
      ],
      "metadata": {
        "id": "uHUPuVdtd1dN"
      }
    },
    {
      "cell_type": "code",
      "source": [
        "df_anomaly = date_dataset()"
      ],
      "metadata": {
        "id": "6KRyxl_Ld76V"
      },
      "execution_count": null,
      "outputs": []
    },
    {
      "cell_type": "code",
      "source": [
        "enc_anomaly = MultiColumnLabelEncoder(columns = ['command','name','account','partition','qos',\n",
        "                                         'job_state','req_nodes', 'year_month'])\n",
        "df_anomaly = enc_anomaly.fit_transform(df_anomaly)\n",
        "df_anomaly = df_anomaly.astype('int64')"
      ],
      "metadata": {
        "id": "UZbOHgv0eYSd"
      },
      "execution_count": null,
      "outputs": []
    },
    {
      "cell_type": "code",
      "source": [
        "df_anomaly.sort_values(['year_month','job_id'], inplace = True, ignore_index=True)"
      ],
      "metadata": {
        "id": "Q6NbXG9-o-RD"
      },
      "execution_count": null,
      "outputs": []
    },
    {
      "cell_type": "code",
      "source": [
        "df_anomaly"
      ],
      "metadata": {
        "id": "HL7fRP6zpJ6-"
      },
      "execution_count": null,
      "outputs": []
    },
    {
      "cell_type": "code",
      "source": [
        "v = []\n",
        "s = df_anomaly['year_month'][0]\n",
        "for i in range(df_anomaly.shape[0]):\n",
        "  if df_anomaly['year_month'].iloc[i] != s:\n",
        "    v.append(i)\n",
        "    s = df_anomaly['year_month'].iloc[i]"
      ],
      "metadata": {
        "id": "2fxQeD96mz3P"
      },
      "execution_count": null,
      "outputs": []
    },
    {
      "cell_type": "code",
      "source": [
        "labels = [\"cpus_per_task\", \"command\", \"name\", \"partition\", \"qos\", \"time_limit\", \"req_nodes\", \"cpu\", \"mem\", \"node\", \"gres/gpu\"]"
      ],
      "metadata": {
        "id": "0a21sFGwmInZ"
      },
      "execution_count": null,
      "outputs": []
    },
    {
      "cell_type": "code",
      "source": [
        "an = df_anomaly[labels]"
      ],
      "metadata": {
        "id": "JUV5dI-QiyXi"
      },
      "execution_count": null,
      "outputs": []
    },
    {
      "cell_type": "code",
      "source": [
        "an = (an - an.mean()) / an.std()"
      ],
      "metadata": {
        "id": "PeeouA6Hi7Sa"
      },
      "execution_count": null,
      "outputs": []
    },
    {
      "cell_type": "code",
      "source": [
        "plot_dataframe(an,v)"
      ],
      "metadata": {
        "id": "Pw_QxrIigAht"
      },
      "execution_count": null,
      "outputs": []
    },
    {
      "cell_type": "code",
      "source": [
        "labels = LabelEncoder()\n",
        "labels.fit(df_anomaly['job_state'])\n",
        "df_anomaly['job_state'] = labels.transform(df_anomaly['job_state'])\n",
        "\n",
        "labels = pd.Series(index=an.index, data=df_anomaly['job_state'], dtype=int)"
      ],
      "metadata": {
        "id": "XRuUHmXrtBId"
      },
      "execution_count": null,
      "outputs": []
    },
    {
      "cell_type": "code",
      "source": [
        "plot_dataframe(an,v,labels)"
      ],
      "metadata": {
        "id": "eDaMUM93tl1b"
      },
      "execution_count": null,
      "outputs": []
    },
    {
      "cell_type": "markdown",
      "source": [
        "### PCA"
      ],
      "metadata": {
        "id": "A5CHSLh-zK8w"
      }
    },
    {
      "cell_type": "code",
      "source": [
        "X_std = StandardScaler().fit_transform(df_anomaly.iloc[:,:15])\n",
        "X_pca = PCA(n_components=2).fit_transform(X_std)\n",
        "X_pca = np.vstack((X_pca.T, df_anomaly.iloc[:,16])).T\n",
        "df_pca = pd.DataFrame(X_pca, columns=['1st_Component','2nd_Component','class'])\n",
        "df_pca.head()"
      ],
      "metadata": {
        "id": "sAgbhbOpyEhA"
      },
      "execution_count": null,
      "outputs": []
    },
    {
      "cell_type": "code",
      "source": [
        "plt.figure(figsize=(8, 8))\n",
        "sns.scatterplot(data=df_pca, hue='class', x='1st_Component', y='2nd_Component')\n",
        "plt.show()"
      ],
      "metadata": {
        "id": "FEehhqdVywdn"
      },
      "execution_count": null,
      "outputs": []
    },
    {
      "cell_type": "markdown",
      "source": [
        "### t-SNE"
      ],
      "metadata": {
        "id": "gMQnvMtDzQP_"
      }
    },
    {
      "cell_type": "code",
      "source": [
        "sample_sne = df_anomaly.sample(10000)\n",
        "X_std_sne = StandardScaler().fit_transform(sample_sne.iloc[:,:15])\n",
        "tsne = TSNE(n_components=2)\n",
        "X_tsne = tsne.fit_transform(X_std_sne)\n",
        "X_tsne_data = np.vstack((X_tsne.T, sample_sne.iloc[:,16])).T\n",
        "df_tsne = pd.DataFrame(X_tsne_data, columns=['Dim1', 'Dim2', 'class'])\n",
        "df_tsne.head()"
      ],
      "metadata": {
        "id": "rmrtEKv-zTqH"
      },
      "execution_count": null,
      "outputs": []
    },
    {
      "cell_type": "code",
      "source": [
        "plt.figure(figsize=(8, 8))\n",
        "sns.scatterplot(data=df_tsne, hue='class', x='Dim1', y='Dim2')\n",
        "plt.show()"
      ],
      "metadata": {
        "id": "0vdGea7Fzdxe"
      },
      "execution_count": null,
      "outputs": []
    },
    {
      "cell_type": "markdown",
      "source": [
        "### LDA"
      ],
      "metadata": {
        "id": "wl95YKz18cMV"
      }
    },
    {
      "cell_type": "code",
      "source": [
        "lda = LinearDiscriminantAnalysis(n_components=2)\n",
        "X_lda = lda.fit_transform(X_std, df_anomaly.iloc[:,16])\n",
        "X_lda_data = np.vstack((X_lda.T, df_anomaly.iloc[:,16])).T\n",
        "df_lda = pd.DataFrame(X_lda_data, columns=['Dim1', 'Dim2', 'class'])\n",
        "df_lda.head()"
      ],
      "metadata": {
        "id": "m6d1cTBq8ebZ"
      },
      "execution_count": null,
      "outputs": []
    },
    {
      "cell_type": "code",
      "source": [
        "plt.figure(figsize=(8, 8))\n",
        "sns.scatterplot(data=df_lda, hue='class', x='Dim1', y='Dim2')\n",
        "plt.show()"
      ],
      "metadata": {
        "id": "aJThP45t9Qgp"
      },
      "execution_count": null,
      "outputs": []
    },
    {
      "cell_type": "markdown",
      "source": [
        "## Monthly prediction"
      ],
      "metadata": {
        "id": "-GlEMb3XOiaV"
      }
    },
    {
      "cell_type": "code",
      "source": [
        "df_anomaly = df_anomaly.drop(['job_id'], axis = 1)\n",
        "df_anomaly_train = df_anomaly[df_anomaly['year_month']<5]\n",
        "df_anomaly_val = df_anomaly[df_anomaly['year_month']==5]"
      ],
      "metadata": {
        "id": "lGqB4M5dPBMN"
      },
      "execution_count": null,
      "outputs": []
    },
    {
      "cell_type": "code",
      "source": [
        "df_anomaly_train = df_anomaly_train.drop(['year_month'], axis = 1)\n",
        "df_anomaly_val = df_anomaly_val.drop(['year_month'], axis = 1)"
      ],
      "metadata": {
        "id": "oOisVSasPa4c"
      },
      "execution_count": null,
      "outputs": []
    },
    {
      "cell_type": "markdown",
      "source": [
        "#### XGBoost"
      ],
      "metadata": {
        "id": "DXFamn-5Qp4L"
      }
    },
    {
      "cell_type": "code",
      "source": [
        "xgb_clf = xgb.XGBClassifier(objective='multi:softmax',\n",
        "                            num_class=4,\n",
        "                            learning_rate=0.1,\n",
        "                            tree_method = \"gpu_hist\",\n",
        "                            max_depth=20,\n",
        "                            seed=s)\n",
        "xgb_clf.fit(df_anomaly_train.iloc[:,:14], df_anomaly_train.iloc[:,14])\n",
        "y_xgb = xgb_clf.predict(df_anomaly_val.iloc[:,:14])"
      ],
      "metadata": {
        "id": "7a3WoCfVPr9Z"
      },
      "execution_count": null,
      "outputs": []
    },
    {
      "cell_type": "code",
      "source": [
        "print(classification_report(list(map(lambda e: d[e], df_anomaly_val.iloc[:,14])), list(map(lambda e: d[e], y_xgb))))"
      ],
      "metadata": {
        "id": "E9grp-8dPr9Z"
      },
      "execution_count": null,
      "outputs": []
    },
    {
      "cell_type": "markdown",
      "source": [
        "#### SBERT + XGBoost"
      ],
      "metadata": {
        "id": "YJRscaqOQyoL"
      }
    },
    {
      "cell_type": "code",
      "source": [
        "x_anomaly = df_anomaly_train.iloc[:, :14].to_dict(\"records\")\n",
        "y_anomaly = df_anomaly_train['job_state'].values.tolist()\n",
        "x_anomaly_val = df_anomaly_val.iloc[:, :14].to_dict(\"records_val\")\n",
        "y_anomaly_val = df_anomaly_val['job_state'].values.tolist()"
      ],
      "metadata": {
        "id": "1za6Pi6pQ9Do"
      },
      "execution_count": null,
      "outputs": []
    },
    {
      "cell_type": "code",
      "source": [
        "del df_anomaly_train, df_anomaly_val\n",
        "gc.collect()"
      ],
      "metadata": {
        "id": "nK1zzKrJQ9Do"
      },
      "execution_count": null,
      "outputs": []
    },
    {
      "cell_type": "code",
      "source": [
        "sbertxg = SBertXGBoost()"
      ],
      "metadata": {
        "id": "yFQwcyzBRCT0"
      },
      "execution_count": null,
      "outputs": []
    },
    {
      "cell_type": "code",
      "source": [
        "sbertxg.fit(x_anomaly, y_anomaly)"
      ],
      "metadata": {
        "id": "EWEYYTHGRCT0"
      },
      "execution_count": null,
      "outputs": []
    },
    {
      "cell_type": "code",
      "source": [
        "y_predicted = sbertxg.predict(x_anomaly_val)"
      ],
      "metadata": {
        "id": "oZdJTlL5RCT0"
      },
      "execution_count": null,
      "outputs": []
    },
    {
      "cell_type": "code",
      "source": [
        "print(classification_report(list(map(lambda e: d[e], y_anomaly_val)), list(map(lambda e: d[e], y_predicted))))"
      ],
      "metadata": {
        "id": "DZMMsrutRCT1"
      },
      "execution_count": null,
      "outputs": []
    },
    {
      "cell_type": "markdown",
      "source": [
        "## Preprocessing for training"
      ],
      "metadata": {
        "id": "qURt32bceFn_"
      }
    },
    {
      "cell_type": "markdown",
      "source": [
        "Select method:\n",
        "* Train e test D1: small dataset used both for training and test.\n",
        "* Train e test D2: big dataset used both for training and test.\n",
        "* Train D1 e test D2: train on small, test on big.\n",
        "* Train D2 e test D1: train on big, test on small.\n",
        "\n",
        "Select random drop on validation using real:\n",
        "* If real = 1, keep real validation set but randomly drop 60% of instances to avoid out of memory issues.\n",
        "* If real = 0, undersampling of the whole dataset."
      ],
      "metadata": {
        "id": "MKlMsnkiq3a3"
      }
    },
    {
      "cell_type": "code",
      "source": [
        "# Train e test D1\n",
        "df_train, df_val = manage_dataset(setup=0, real = 1)\n",
        "\n",
        "# Train e test D2\n",
        "# df_train, df_val = manage_dataset(setup=1, real = 1)\n",
        "\n",
        "# Train D1 e test D2\n",
        "#df_train, df_val = manage_dataset(setup=2, real = 1)\n",
        "\n",
        "# Train D2 e test D1\n",
        "#df_train, df_val = manage_dataset(setup=3, real = 1)"
      ],
      "metadata": {
        "id": "Flp_5x8tU29V"
      },
      "execution_count": null,
      "outputs": []
    },
    {
      "cell_type": "code",
      "source": [
        "df_train"
      ],
      "metadata": {
        "id": "lx25pZOuZlkj"
      },
      "execution_count": null,
      "outputs": []
    },
    {
      "cell_type": "markdown",
      "source": [
        "## Categorical encoding for attributes that are not trainable"
      ],
      "metadata": {
        "id": "0DXcxCjKfeII"
      }
    },
    {
      "cell_type": "code",
      "source": [
        "enc = MultiColumnLabelEncoder(columns = ['command','name','account','partition','qos',\n",
        "                                         'job_state','req_nodes'])\n",
        "df_full = pd.concat([df_train, df_val], axis=0)\n",
        "df_full = enc.fit_transform(df_full)\n",
        "df_train = df_full.iloc[:len(df_train),:]\n",
        "df_val = df_full.iloc[len(df_train):,:]"
      ],
      "metadata": {
        "id": "HewFcNBBfXaG"
      },
      "execution_count": null,
      "outputs": []
    },
    {
      "cell_type": "code",
      "source": [
        "df_train = df_train.astype(int)\n",
        "df_val = df_val.astype(int)"
      ],
      "metadata": {
        "id": "ZxPdVDTymKIk"
      },
      "execution_count": null,
      "outputs": []
    },
    {
      "cell_type": "code",
      "source": [
        "df_train.corr()"
      ],
      "metadata": {
        "id": "fUJZ7NsGETc_"
      },
      "execution_count": null,
      "outputs": []
    },
    {
      "cell_type": "markdown",
      "source": [
        "There is not a significant correlation between the features so we decided to not drop any feature."
      ],
      "metadata": {
        "id": "m1Yw0H98v1jZ"
      }
    },
    {
      "cell_type": "markdown",
      "source": [
        "## XGBoost"
      ],
      "metadata": {
        "id": "gpewqUSiBHx7"
      }
    },
    {
      "cell_type": "code",
      "source": [
        "xgb_clf = xgb.XGBClassifier(objective='multi:softmax',\n",
        "                            num_class=4,\n",
        "                            learning_rate=0.1,\n",
        "                            #tree_method = \"gpu_hist\",\n",
        "                            max_depth=20,\n",
        "                            seed=s)\n",
        "xgb_clf.fit(df_train.iloc[:,1:15], df_train.iloc[:,15])\n",
        "y_xgb = xgb_clf.predict(df_val.iloc[:,1:15])"
      ],
      "metadata": {
        "id": "HSfUT60gBJ9y"
      },
      "execution_count": null,
      "outputs": []
    },
    {
      "cell_type": "code",
      "source": [
        "print(classification_report(list(map(lambda e: d[e], df_val.iloc[:,15])), list(map(lambda e: d[e], y_xgb))))"
      ],
      "metadata": {
        "id": "tPw6LBELBoG6"
      },
      "execution_count": null,
      "outputs": []
    },
    {
      "cell_type": "markdown",
      "source": [
        "### LIME explainability"
      ],
      "metadata": {
        "id": "CsMLtJfyqj5b"
      }
    },
    {
      "cell_type": "code",
      "source": [
        "explainer_lime = lime.lime_tabular.LimeTabularExplainer(df_train.iloc[:,1:15].values,\n",
        "                                                   feature_names=df_train.drop(axis=1,labels=[\"job_id\",\"job_state\"]).columns.values.tolist(),\n",
        "                                                  class_names=['completed','failed','oom','time-out'],\n",
        "                                                   verbose=True,\n",
        "                                                   mode='classification')"
      ],
      "metadata": {
        "id": "UyzDCkWaUovz"
      },
      "execution_count": null,
      "outputs": []
    },
    {
      "cell_type": "code",
      "source": [
        "j = 6\n",
        "exp = explainer_lime.explain_instance(df_val.iloc[:,1:15].values[j], xgb_clf.predict_proba, num_features=14, top_labels=4);"
      ],
      "metadata": {
        "id": "XbdOmz3cWcEC"
      },
      "execution_count": null,
      "outputs": []
    },
    {
      "cell_type": "code",
      "source": [
        "exp.show_in_notebook()"
      ],
      "metadata": {
        "id": "7-Z95ExcbDS7"
      },
      "execution_count": null,
      "outputs": []
    },
    {
      "cell_type": "code",
      "source": [
        "# gold standard\n",
        "df_val.iloc[:,15].values[j]"
      ],
      "metadata": {
        "id": "Ip5LazHJZoVK"
      },
      "execution_count": null,
      "outputs": []
    },
    {
      "cell_type": "markdown",
      "source": [
        "### SHAP explainability"
      ],
      "metadata": {
        "id": "oWKiSzBPcdsx"
      }
    },
    {
      "cell_type": "code",
      "source": [
        "X_sampled_full = df_train.iloc[:,1:16].sample(100, random_state=42)\n",
        "X_sampled = X_sampled_full.drop(axis=1, labels=[\"job_state\"])\n",
        "explainer = shap.TreeExplainer(xgb_clf)\n",
        "shap_values = explainer.shap_values(X_sampled)"
      ],
      "metadata": {
        "id": "kiUnNRple9oI"
      },
      "execution_count": null,
      "outputs": []
    },
    {
      "cell_type": "code",
      "source": [
        "shap.initjs()\n",
        "shap.force_plot(explainer.expected_value[0], shap_values[0][0], X_sampled.iloc[0])"
      ],
      "metadata": {
        "id": "O7rSfvAhfHvr"
      },
      "execution_count": null,
      "outputs": []
    },
    {
      "cell_type": "code",
      "source": [
        "shap.initjs()\n",
        "shap.force_plot(explainer.expected_value[1], shap_values[1][0], X_sampled.iloc[0])"
      ],
      "metadata": {
        "id": "ZM2YdU-cELzz"
      },
      "execution_count": null,
      "outputs": []
    },
    {
      "cell_type": "code",
      "source": [
        "shap.initjs()\n",
        "shap.force_plot(explainer.expected_value[2], shap_values[2][0], X_sampled.iloc[0])"
      ],
      "metadata": {
        "id": "JHSkzK8ZEPFh"
      },
      "execution_count": null,
      "outputs": []
    },
    {
      "cell_type": "code",
      "source": [
        "shap.initjs()\n",
        "shap.force_plot(explainer.expected_value[3], shap_values[3][0], X_sampled.iloc[0])"
      ],
      "metadata": {
        "id": "O58v74G_EQVy"
      },
      "execution_count": null,
      "outputs": []
    },
    {
      "cell_type": "code",
      "source": [
        "print(\"Golden standard:\",X_sampled_full.iloc[0,14])"
      ],
      "metadata": {
        "id": "NHmvYh0GA3FV"
      },
      "execution_count": null,
      "outputs": []
    },
    {
      "cell_type": "code",
      "source": [
        "shap.initjs()\n",
        "shap.force_plot(explainer.expected_value[0], shap_values[0], X_sampled)"
      ],
      "metadata": {
        "id": "dq1UPffJEsve"
      },
      "execution_count": null,
      "outputs": []
    },
    {
      "cell_type": "code",
      "source": [
        "shap.initjs()\n",
        "shap.force_plot(explainer.expected_value[1], shap_values[1], X_sampled)"
      ],
      "metadata": {
        "id": "CeWnqoNcFHah"
      },
      "execution_count": null,
      "outputs": []
    },
    {
      "cell_type": "code",
      "source": [
        "shap.initjs()\n",
        "shap.force_plot(explainer.expected_value[2], shap_values[2], X_sampled)"
      ],
      "metadata": {
        "id": "v6eEkfLbFzB1"
      },
      "execution_count": null,
      "outputs": []
    },
    {
      "cell_type": "code",
      "source": [
        "shap.initjs()\n",
        "shap.force_plot(explainer.expected_value[3], shap_values[3], X_sampled)"
      ],
      "metadata": {
        "id": "Yu85s2yJFzjs"
      },
      "execution_count": null,
      "outputs": []
    },
    {
      "cell_type": "code",
      "source": [
        "shap.summary_plot(shap_values, X_sampled, plot_type=\"bar\")"
      ],
      "metadata": {
        "id": "XrC9cMm-mdc1"
      },
      "execution_count": null,
      "outputs": []
    },
    {
      "cell_type": "code",
      "source": [
        "shap.summary_plot(shap_values, X_sampled)"
      ],
      "metadata": {
        "id": "nbJDdO_WmeXN"
      },
      "execution_count": null,
      "outputs": []
    },
    {
      "cell_type": "markdown",
      "source": [
        "## Random Forest"
      ],
      "metadata": {
        "id": "1vpnN3eioubT"
      }
    },
    {
      "cell_type": "code",
      "source": [
        "rf = RandomForestClassifier(max_depth=20, random_state=s)\n",
        "rf.fit(df_train.iloc[:,1:15], df_train.iloc[:,15])\n",
        "y_rf = rf.predict(df_val.iloc[:,1:15])"
      ],
      "metadata": {
        "id": "e5ZbX4L7I7rw"
      },
      "execution_count": null,
      "outputs": []
    },
    {
      "cell_type": "code",
      "source": [
        "print(classification_report(list(map(lambda e: d[e], df_val.iloc[:,15])), list(map(lambda e: d[e], y_rf))))"
      ],
      "metadata": {
        "id": "gX0DnOeQS3_K"
      },
      "execution_count": null,
      "outputs": []
    },
    {
      "cell_type": "markdown",
      "source": [
        "### LIME explainability"
      ],
      "metadata": {
        "id": "pxJ4q8XgqqEO"
      }
    },
    {
      "cell_type": "code",
      "source": [
        "j = 6\n",
        "exp = explainer_lime.explain_instance(df_val.iloc[:,1:15].values[j], rf.predict_proba, num_features=14, top_labels=4);"
      ],
      "metadata": {
        "id": "T7Fy5Nr8bV45"
      },
      "execution_count": null,
      "outputs": []
    },
    {
      "cell_type": "code",
      "source": [
        "exp.show_in_notebook()"
      ],
      "metadata": {
        "id": "8JJoaMelbV46"
      },
      "execution_count": null,
      "outputs": []
    },
    {
      "cell_type": "code",
      "source": [
        "# gold standard\n",
        "df_val.iloc[:,15].values[j]"
      ],
      "metadata": {
        "id": "5Q_ghbGrbd4J"
      },
      "execution_count": null,
      "outputs": []
    },
    {
      "cell_type": "markdown",
      "source": [
        "###SHAP explainability"
      ],
      "metadata": {
        "id": "8NAdPlTsGRY-"
      }
    },
    {
      "cell_type": "code",
      "source": [
        "explainer_rf = shap.TreeExplainer(rf)\n",
        "shap_values_rf = explainer_rf.shap_values(X_sampled)"
      ],
      "metadata": {
        "id": "s_MoQSm_GDcm"
      },
      "execution_count": null,
      "outputs": []
    },
    {
      "cell_type": "code",
      "source": [
        "shap.initjs()\n",
        "shap.force_plot(explainer_rf.expected_value[0], shap_values_rf[0][0], X_sampled.iloc[0])"
      ],
      "metadata": {
        "id": "uSGPa8PuG8m9"
      },
      "execution_count": null,
      "outputs": []
    },
    {
      "cell_type": "code",
      "source": [
        "shap.initjs()\n",
        "shap.force_plot(explainer_rf.expected_value[1], shap_values_rf[1][0], X_sampled.iloc[0])"
      ],
      "metadata": {
        "id": "ufVbOJUOHGnO"
      },
      "execution_count": null,
      "outputs": []
    },
    {
      "cell_type": "code",
      "source": [
        "shap.initjs()\n",
        "shap.force_plot(explainer_rf.expected_value[2], shap_values_rf[2][0], X_sampled.iloc[0])"
      ],
      "metadata": {
        "id": "cjXiA7FCHGdA"
      },
      "execution_count": null,
      "outputs": []
    },
    {
      "cell_type": "code",
      "source": [
        "shap.initjs()\n",
        "shap.force_plot(explainer_rf.expected_value[3], shap_values_rf[3][0], X_sampled.iloc[0])"
      ],
      "metadata": {
        "id": "ZrZnrRY9HGQQ"
      },
      "execution_count": null,
      "outputs": []
    },
    {
      "cell_type": "code",
      "source": [
        "shap.initjs()\n",
        "shap.force_plot(explainer_rf.expected_value[0], shap_values_rf[0], X_sampled)"
      ],
      "metadata": {
        "id": "PtgGbSgqG8nA"
      },
      "execution_count": null,
      "outputs": []
    },
    {
      "cell_type": "code",
      "source": [
        "shap.initjs()\n",
        "shap.force_plot(explainer_rf.expected_value[1], shap_values_rf[1], X_sampled)"
      ],
      "metadata": {
        "id": "PcwXhFU2HxFO"
      },
      "execution_count": null,
      "outputs": []
    },
    {
      "cell_type": "code",
      "source": [
        "shap.initjs()\n",
        "shap.force_plot(explainer_rf.expected_value[2], shap_values_rf[2], X_sampled)"
      ],
      "metadata": {
        "id": "061fLPxQH2tR"
      },
      "execution_count": null,
      "outputs": []
    },
    {
      "cell_type": "code",
      "source": [
        "shap.initjs()\n",
        "shap.force_plot(explainer_rf.expected_value[3], shap_values_rf[3], X_sampled)"
      ],
      "metadata": {
        "id": "tC-xl-CZH9U7"
      },
      "execution_count": null,
      "outputs": []
    },
    {
      "cell_type": "code",
      "source": [
        "shap.summary_plot(shap_values_rf, X_sampled, plot_type=\"bar\")"
      ],
      "metadata": {
        "id": "fOKpsxM8n6Or"
      },
      "execution_count": null,
      "outputs": []
    },
    {
      "cell_type": "markdown",
      "source": [
        "### OvR or OvO"
      ],
      "metadata": {
        "id": "ktU9K1u5tizn"
      }
    },
    {
      "cell_type": "code",
      "source": [
        "ovr = OneVsRestClassifier(RandomForestClassifier(max_depth=20, random_state=42))\n",
        "ovo = OneVsOneClassifier(RandomForestClassifier(max_depth=20, random_state=42))"
      ],
      "metadata": {
        "id": "6LW5hnFRgeHZ"
      },
      "execution_count": null,
      "outputs": []
    },
    {
      "cell_type": "code",
      "source": [
        "ovr.fit(df_train.iloc[:,1:15], df_train.iloc[:,15])\n",
        "y_rf = ovr.predict(df_val.iloc[:,1:15])"
      ],
      "metadata": {
        "id": "p42G9GxghHM4"
      },
      "execution_count": null,
      "outputs": []
    },
    {
      "cell_type": "code",
      "source": [
        "print(classification_report(list(map(lambda e: d[e], df_val.iloc[:,15])), list(map(lambda e: d[e], y_rf))))"
      ],
      "metadata": {
        "id": "1Nz8gEXWhNeF"
      },
      "execution_count": null,
      "outputs": []
    },
    {
      "cell_type": "code",
      "source": [
        "ovo.fit(df_train.iloc[:,1:15], df_train.iloc[:,15])\n",
        "y_rf = ovo.predict(df_val.iloc[:,1:15])"
      ],
      "metadata": {
        "id": "U-P-JqU_iVhn"
      },
      "execution_count": null,
      "outputs": []
    },
    {
      "cell_type": "code",
      "source": [
        "print(classification_report(list(map(lambda e: d[e], df_val.iloc[:,15])), list(map(lambda e: d[e], y_rf))))"
      ],
      "metadata": {
        "id": "FV259ozyiVhn"
      },
      "execution_count": null,
      "outputs": []
    },
    {
      "cell_type": "markdown",
      "source": [
        "### Voting classifiers\n",
        "Voting: majority vote."
      ],
      "metadata": {
        "id": "UUoOLe49txUn"
      }
    },
    {
      "cell_type": "code",
      "source": [
        "estimators = [\n",
        "     ('rf', RandomForestClassifier(max_depth=20, random_state=42)),\n",
        "     ('svr', ExtraTreesClassifier(max_depth=20, random_state=42)),\n",
        "     ('xg', xgb.XGBClassifier(objective='multi:softmax',\n",
        "                            num_class=4,\n",
        "                            learning_rate=0.1,\n",
        "                            #tree_method = \"gpu_hist\",\n",
        "                            max_depth=20,\n",
        "                            seed=42))\n",
        "]\n",
        "clf = VotingClassifier(\n",
        "     estimators=estimators, voting = 'soft'\n",
        ")"
      ],
      "metadata": {
        "id": "XxjSq1d1Bh6S"
      },
      "execution_count": null,
      "outputs": []
    },
    {
      "cell_type": "code",
      "source": [
        "clf.fit(df_train.iloc[:,1:15], df_train.iloc[:,15])"
      ],
      "metadata": {
        "id": "O88LpIWFB7cJ"
      },
      "execution_count": null,
      "outputs": []
    },
    {
      "cell_type": "code",
      "source": [
        "y_clf = clf.predict(df_val.iloc[:,1:15])"
      ],
      "metadata": {
        "id": "NBJWWuNjItrC"
      },
      "execution_count": null,
      "outputs": []
    },
    {
      "cell_type": "code",
      "source": [
        "print(classification_report(list(map(lambda e: d[e], df_val.iloc[:,15])), list(map(lambda e: d[e], y_clf))))"
      ],
      "metadata": {
        "id": "pKPI9BrqB-OJ"
      },
      "execution_count": null,
      "outputs": []
    },
    {
      "cell_type": "markdown",
      "source": [
        "## Sentence BERT with Random Forest or XGBoost classification\n",
        "Since there are a lot of features that could contain useful semantic information, we used Sentence bert encoder to focus more on those.\n",
        "Similar string features could mean similar class."
      ],
      "metadata": {
        "id": "p7wkL9_w0ZQs"
      }
    },
    {
      "cell_type": "code",
      "source": [
        "# Train e test D1\n",
        "df_train, df_val = manage_dataset(setup=0, real = 1)\n",
        "\n",
        "# Train e test D2\n",
        "# df_train, df_val = manage_dataset(setup=1, real = 1)\n",
        "\n",
        "# Train D1 e test D2\n",
        "#df_train, df_val = manage_dataset(setup=2, real = 1)\n",
        "\n",
        "# Train D2 e test D1\n",
        "#df_train, df_val = manage_dataset(setup=3, real = 1)"
      ],
      "metadata": {
        "id": "n0718aMaAhfv"
      },
      "execution_count": null,
      "outputs": []
    },
    {
      "cell_type": "code",
      "source": [
        "x = df_train.iloc[:, 1:15].to_dict(\"records\")\n",
        "y = df_train['job_state'].values.tolist()\n",
        "x_val = df_val.iloc[:, 1:15].to_dict(\"records_val\")\n",
        "y_val = df_val['job_state'].values.tolist()"
      ],
      "metadata": {
        "id": "vbEQkIPL0mzg"
      },
      "execution_count": null,
      "outputs": []
    },
    {
      "cell_type": "code",
      "source": [
        "del df_train, df_val\n",
        "gc.collect()"
      ],
      "metadata": {
        "id": "tcbNUfrFArrE"
      },
      "execution_count": null,
      "outputs": []
    },
    {
      "cell_type": "markdown",
      "source": [
        "### SBert with Random Forest"
      ],
      "metadata": {
        "id": "9F9rd3HKvBPL"
      }
    },
    {
      "cell_type": "markdown",
      "source": [
        "https://huggingface.co/blog/how-to-train-sentence-transformers\n",
        "\n",
        "https://colab.research.google.com/github/huggingface/blog/blob/main/notebooks/95_Training_Sentence_Transformers.ipynb#scrollTo=gbrXjod4dhJW\n",
        "\n",
        "https://huggingface.co/microsoft/mpnet-base"
      ],
      "metadata": {
        "id": "_ofTvEPrBQga"
      }
    },
    {
      "cell_type": "code",
      "source": [
        "sbert = SBertBaseline()"
      ],
      "metadata": {
        "id": "YAgewIj-3acd"
      },
      "execution_count": null,
      "outputs": []
    },
    {
      "cell_type": "code",
      "source": [
        "sbert.fit(x, y)"
      ],
      "metadata": {
        "id": "8MgdlHgD7u6F"
      },
      "execution_count": null,
      "outputs": []
    },
    {
      "cell_type": "code",
      "source": [
        "y_predicted = sbert.predict(x_val)"
      ],
      "metadata": {
        "id": "Z7uB5yzRJffI"
      },
      "execution_count": null,
      "outputs": []
    },
    {
      "cell_type": "code",
      "source": [
        "print(classification_report(list(map(lambda e: d[e], y_val)), list(map(lambda e: d[e], y_predicted))))"
      ],
      "metadata": {
        "id": "Y5tRHkGiKAzE"
      },
      "execution_count": null,
      "outputs": []
    },
    {
      "cell_type": "markdown",
      "source": [
        "#### SBERT encoding explainability"
      ],
      "metadata": {
        "id": "Qr0EmvKopCdA"
      }
    },
    {
      "cell_type": "markdown",
      "source": [
        "In order to understand how the Sbert Encoding affects the classification process we used an explainer that is ment for SBert monolingual encoding. It  provide explanations by breaking down the Bert similarity score to show the contribution of each word. The break down scores are computed using the SHAP method.\n",
        "\n",
        "![immagine.png](data:image/png;base64,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)"
      ],
      "metadata": {
        "id": "zQw2AHOsEyvv"
      }
    },
    {
      "cell_type": "code",
      "source": [
        "# initialise the explainable sts metric\n",
        "sim_explainer = ExplainableSTS('sbert') # to use sbert, pass argument 'sbert'"
      ],
      "metadata": {
        "id": "v5aSazSx4JPx"
      },
      "execution_count": null,
      "outputs": []
    },
    {
      "cell_type": "markdown",
      "source": [
        "Investigating intra class similarity:"
      ],
      "metadata": {
        "id": "BgJ3-GbS_NlI"
      }
    },
    {
      "cell_type": "code",
      "source": [
        "pred_0 = [i for i in range(0,len(y)) if y[i]==0]\n",
        "pred_1 = [i for i in range(0,len(y)) if y[i]==1]\n",
        "pred_2 = [i for i in range(0,len(y)) if y[i]==2]\n",
        "pred_3 = [i for i in range(0,len(y)) if y[i]==3]"
      ],
      "metadata": {
        "id": "kBjVvf_5FDk_"
      },
      "execution_count": null,
      "outputs": []
    },
    {
      "cell_type": "code",
      "source": [
        "num_s=1000\n",
        "s_0 = [x[i] for i in random.sample(pred_0,num_s)]\n",
        "s_1 = [x[i] for i in random.sample(pred_1,num_s)]\n",
        "s_2 = [x[i] for i in random.sample(pred_2,num_s)]\n",
        "s_3 = [x[i] for i in random.sample(pred_3,num_s)]"
      ],
      "metadata": {
        "id": "KOKkeg2EHY1w"
      },
      "execution_count": null,
      "outputs": []
    },
    {
      "cell_type": "code",
      "source": [
        "samp_0=[]\n",
        "for entry in s_0:\n",
        "  samp_0.append(\",\".join([f\"{str(k)}={str(entry[k])}\" for k in entry]))\n",
        "samp_1=[]\n",
        "for entry in s_1:\n",
        "  samp_1.append(\",\".join([f\"{str(k)}={str(entry[k])}\" for k in entry]))\n",
        "samp_2=[]\n",
        "for entry in s_2:\n",
        "  samp_2.append(\",\".join([f\"{str(k)}={str(entry[k])}\" for k in entry]))\n",
        "samp_3=[]\n",
        "for entry in s_3:\n",
        "  samp_3.append(\",\".join([f\"{str(k)}={str(entry[k])}\" for k in entry]))"
      ],
      "metadata": {
        "id": "JV3dPzBjchS3"
      },
      "execution_count": null,
      "outputs": []
    },
    {
      "cell_type": "code",
      "source": [
        "sim_scores_0=[]\n",
        "for i in range(num_s-1):\n",
        "  sim_scores_0.append(sim_explainer(samp_0[i], samp_0[i+1]))\n",
        "  # print('predicted similarity score:', sim_scores_0[i])\n",
        "\n",
        "sim_avg_0 = sum(sim_scores_0)/num_s\n",
        "print('Predicted mean similarity score of the sample from prediction 0:', sim_avg_0)"
      ],
      "metadata": {
        "id": "DQS24D7UPN3Q"
      },
      "execution_count": null,
      "outputs": []
    },
    {
      "cell_type": "code",
      "source": [
        "sim_scores_1=[]\n",
        "for i in range(num_s-1):\n",
        "  sim_scores_1.append(sim_explainer(samp_1[i], samp_1[i+1]))\n",
        "  # print('predicted similarity score:', sim_scores_1[i])\n",
        "\n",
        "sim_avg_1 = sum(sim_scores_1)/num_s\n",
        "print('Predicted mean similarity score of the sample from prediction 1:', sim_avg_1)"
      ],
      "metadata": {
        "id": "qUgtafO4RQJg"
      },
      "execution_count": null,
      "outputs": []
    },
    {
      "cell_type": "code",
      "source": [
        "sim_scores_2=[]\n",
        "for i in range(num_s-1):\n",
        "  sim_scores_2.append(sim_explainer(samp_2[i], samp_2[i+1]))\n",
        "  # print('predicted similarity score:', sim_scores_2[i])\n",
        "\n",
        "sim_avg_2 = sum(sim_scores_2)/num_s\n",
        "print('Predicted mean similarity score of the sample from prediction 2:', sim_avg_2)"
      ],
      "metadata": {
        "id": "se1shE9HRQB_"
      },
      "execution_count": null,
      "outputs": []
    },
    {
      "cell_type": "code",
      "source": [
        "sim_scores_3=[]\n",
        "for i in range(num_s-1):\n",
        "  sim_scores_3.append(sim_explainer(samp_3[i], samp_3[i+1]))\n",
        "  # print('predicted similarity score:', sim_scores_3[i])\n",
        "\n",
        "sim_avg_3 = sum(sim_scores_3)/num_s\n",
        "print('Predicted mean similarity score of the sample from prediction 3:', sim_avg_3)"
      ],
      "metadata": {
        "id": "RR8TaV_ARtkX"
      },
      "execution_count": null,
      "outputs": []
    },
    {
      "cell_type": "markdown",
      "source": [
        "The class with the least intra class similarity is Failed.\n",
        "\n",
        "\n",
        "The highest score is achieved by oom class."
      ],
      "metadata": {
        "id": "2nE25Hqj5XLD"
      }
    },
    {
      "cell_type": "markdown",
      "source": [
        "Investigating inter class similarity:"
      ],
      "metadata": {
        "id": "fhxLA-_fSKtP"
      }
    },
    {
      "cell_type": "code",
      "source": [
        "sim_scores_0_1=[]\n",
        "for i in range(num_s):\n",
        "  sim_scores_0_1.append(sim_explainer(samp_0[i], samp_1[i]))\n",
        "  # print('predicted similarity score:', sim_scores_3[i])\n",
        "\n",
        "sim_avg_0_1 = sum(sim_scores_0_1)/num_s\n",
        "print('Predicted mean similarity score between predictions 0 and 1:', sim_avg_0_1)"
      ],
      "metadata": {
        "id": "h4XFV9SMR0Bg"
      },
      "execution_count": null,
      "outputs": []
    },
    {
      "cell_type": "code",
      "source": [
        "sim_scores_0_2=[]\n",
        "for i in range(num_s):\n",
        "  sim_scores_0_2.append(sim_explainer(samp_0[i], samp_2[i]))\n",
        "  # print('predicted similarity score:', sim_scores_3[i])\n",
        "\n",
        "sim_avg_0_2 = sum(sim_scores_0_2)/num_s\n",
        "print('Predicted mean similarity score between predictions 0 and 2:', sim_avg_0_2)"
      ],
      "metadata": {
        "id": "pwjdaKoITHdc"
      },
      "execution_count": null,
      "outputs": []
    },
    {
      "cell_type": "code",
      "source": [
        "sim_scores_0_3=[]\n",
        "for i in range(num_s):\n",
        "  sim_scores_0_3.append(sim_explainer(samp_0[i], samp_3[i]))\n",
        "  # print('predicted similarity score:', sim_scores_3[i])\n",
        "\n",
        "sim_avg_0_3 = sum(sim_scores_0_3)/num_s\n",
        "print('Predicted mean similarity score between predictions 0 and 3:', sim_avg_0_3)"
      ],
      "metadata": {
        "id": "7YG2wM2FTRgb"
      },
      "execution_count": null,
      "outputs": []
    },
    {
      "cell_type": "code",
      "source": [
        "sim_scores_1_3=[]\n",
        "for i in range(num_s):\n",
        "  sim_scores_1_3.append(sim_explainer(samp_1[i], samp_3[i]))\n",
        "  # print('predicted similarity score:', sim_scores_3[i])\n",
        "\n",
        "sim_avg_1_3 = sum(sim_scores_1_3)/num_s\n",
        "print('Predicted mean similarity score between predictions 1 and 3:', sim_avg_1_3)"
      ],
      "metadata": {
        "id": "h95h_FTqTgWQ"
      },
      "execution_count": null,
      "outputs": []
    },
    {
      "cell_type": "code",
      "source": [
        "sim_scores_1_2=[]\n",
        "for i in range(num_s):\n",
        "  sim_scores_1_2.append(sim_explainer(samp_1[i], samp_2[i]))\n",
        "  # print('predicted similarity score:', sim_scores_3[i])\n",
        "\n",
        "sim_avg_1_2 = sum(sim_scores_1_2)/num_s\n",
        "print('Predicted mean similarity score between predictions 1 and 2:', sim_avg_1_2)"
      ],
      "metadata": {
        "id": "6Ond5q3mUMUX"
      },
      "execution_count": null,
      "outputs": []
    },
    {
      "cell_type": "code",
      "source": [
        "sim_scores_2_3=[]\n",
        "for i in range(num_s):\n",
        "  sim_scores_2_3.append(sim_explainer(samp_2[i], samp_3[i]))\n",
        "  # print('predicted similarity score:', sim_scores_3[i])\n",
        "\n",
        "sim_avg_2_3 = sum(sim_scores_2_3)/num_s\n",
        "print('Predicted mean similarity score between predictions 2 and 3:', sim_avg_2_3)"
      ],
      "metadata": {
        "id": "pGiKukSbUM1R"
      },
      "execution_count": null,
      "outputs": []
    },
    {
      "cell_type": "markdown",
      "source": [
        "The inter class similarity is pretty high across all pairs, the peak is in the oom/Time-out pair. This could be one of the factors that limit our performance."
      ],
      "metadata": {
        "id": "VLX_k2Ba6CPK"
      }
    },
    {
      "cell_type": "markdown",
      "source": [
        "Compairson between examples from different classes showing the features contribution:"
      ],
      "metadata": {
        "id": "4r3ZIIZxgIvv"
      }
    },
    {
      "cell_type": "code",
      "source": [
        "sim_score = sim_explainer(samp_0[0], samp_1[0])\n",
        "print('predicted similarity score:', sim_score)\n",
        "\n",
        "# get the explanation\n",
        "sim_explainer.explain(samp_0[0], samp_1[0], plot=True)"
      ],
      "metadata": {
        "id": "V3EgqYzof0Tf"
      },
      "execution_count": null,
      "outputs": []
    },
    {
      "cell_type": "code",
      "source": [
        "sim_score = sim_explainer(samp_0[0], samp_2[0])\n",
        "print('predicted similarity score:', sim_score)\n",
        "\n",
        "# get the explanation\n",
        "sim_explainer.explain(samp_0[0], samp_2[0], plot=True)"
      ],
      "metadata": {
        "id": "QIPBOD-QgmXf"
      },
      "execution_count": null,
      "outputs": []
    },
    {
      "cell_type": "code",
      "source": [
        "sim_score = sim_explainer(samp_0[0], samp_3[0])\n",
        "print('predicted similarity score:', sim_score)\n",
        "\n",
        "sim_explainer.explain(samp_0[0], samp_3[0], plot=True)"
      ],
      "metadata": {
        "id": "g5s1wRPtgmOK"
      },
      "execution_count": null,
      "outputs": []
    },
    {
      "cell_type": "code",
      "source": [
        "sim_score = sim_explainer(samp_2[0], samp_3[0])\n",
        "print('predicted similarity score:', sim_score)\n",
        "\n",
        "sim_explainer.explain(samp_2[0], samp_3[0], plot=True)"
      ],
      "metadata": {
        "id": "eHHNTVvQh1xI"
      },
      "execution_count": null,
      "outputs": []
    },
    {
      "cell_type": "code",
      "source": [
        "sim_score = sim_explainer(samp_2[0], samp_1[0])\n",
        "print('predicted similarity score:', sim_score)\n",
        "\n",
        "sim_explainer.explain(samp_2[0], samp_3[0], plot=True)"
      ],
      "metadata": {
        "id": "j0_g3kTwiCif"
      },
      "execution_count": null,
      "outputs": []
    },
    {
      "cell_type": "markdown",
      "source": [
        "#### LIME explainability"
      ],
      "metadata": {
        "id": "lS0XesrqQatV"
      }
    },
    {
      "cell_type": "code",
      "source": [
        "explainer_lime = lime.lime_tabular.LimeTabularExplainer(sbert.prepare_data(x[:10000]),\n",
        "                                                        feature_names=[i for i in range(1,385)],\n",
        "                                                        class_names=['completed','failed',\n",
        "                                                                     'oom','time-out'],\n",
        "                                                        verbose=True,\n",
        "                                                        mode='classification')"
      ],
      "metadata": {
        "id": "WugyapzoTyPh"
      },
      "execution_count": null,
      "outputs": []
    },
    {
      "cell_type": "markdown",
      "source": [
        "probabilmente il problema risiede in predict proba perchè prova a reincodare quello che sta a sx, quindi cambiare predict proba in modo che non lo fa (in qualche modo) ma che prenda direttamente le cose encodate quindi a sx mettere tipo encode(x)"
      ],
      "metadata": {
        "id": "T68t4IHsiGdm"
      }
    },
    {
      "cell_type": "code",
      "source": [
        "j = 0\n",
        "entry = s_2[j]\n",
        "example = \",\".join([f\"{str(k)}={str(entry[k])}\" for k in entry])\n",
        "print(example)\n",
        "exp = explainer_lime.explain_instance(sbert.encoder.encode(example), sbert.predict_proba, top_labels=4)"
      ],
      "metadata": {
        "id": "95UJYGzeTyPi"
      },
      "execution_count": null,
      "outputs": []
    },
    {
      "cell_type": "code",
      "source": [
        "exp.show_in_notebook()"
      ],
      "metadata": {
        "id": "XWR5xIpR5k9f"
      },
      "execution_count": null,
      "outputs": []
    },
    {
      "cell_type": "code",
      "source": [
        "j = 0\n",
        "entry = x[j]\n",
        "example = \",\".join([f\"{str(k)}={str(entry[k])}\" for k in entry])\n",
        "exp = explainer_lime.explain_instance(sbert.encoder.encode(example), sbert.predict_proba, top_labels=4)"
      ],
      "metadata": {
        "id": "WnHH3DBW6WwL"
      },
      "execution_count": null,
      "outputs": []
    },
    {
      "cell_type": "code",
      "source": [
        "exp.show_in_notebook()"
      ],
      "metadata": {
        "id": "V3fHjCK26WwL"
      },
      "execution_count": null,
      "outputs": []
    },
    {
      "cell_type": "markdown",
      "source": [
        "#### SHAP explainability"
      ],
      "metadata": {
        "id": "99e-GLHIQP0e"
      }
    },
    {
      "cell_type": "code",
      "source": [
        "X_sampled = pd.DataFrame(sbert.prepare_data(s_2))\n",
        "explainer = shap.TreeExplainer(sbert.classifier)\n",
        "shap_values = explainer.shap_values(X_sampled)"
      ],
      "metadata": {
        "id": "kmB45k3j9ebd"
      },
      "execution_count": null,
      "outputs": []
    },
    {
      "cell_type": "code",
      "source": [
        "shap.initjs()\n",
        "shap.force_plot(explainer.expected_value[0], shap_values[0][0], X_sampled.iloc[0])"
      ],
      "metadata": {
        "id": "AqBcFiq79ebe"
      },
      "execution_count": null,
      "outputs": []
    },
    {
      "cell_type": "code",
      "source": [
        "shap.initjs()\n",
        "shap.force_plot(explainer.expected_value[1], shap_values[1][0], X_sampled.iloc[0])"
      ],
      "metadata": {
        "id": "-tzbR74OCDXa"
      },
      "execution_count": null,
      "outputs": []
    },
    {
      "cell_type": "code",
      "source": [
        "shap.initjs()\n",
        "shap.force_plot(explainer.expected_value[2], shap_values[2][0], X_sampled.iloc[0])"
      ],
      "metadata": {
        "id": "GMMRjlMlAb27"
      },
      "execution_count": null,
      "outputs": []
    },
    {
      "cell_type": "code",
      "source": [
        "shap.initjs()\n",
        "shap.force_plot(explainer.expected_value[3], shap_values[3][0], X_sampled.iloc[0])"
      ],
      "metadata": {
        "id": "RZKdb5-9CQYM"
      },
      "execution_count": null,
      "outputs": []
    },
    {
      "cell_type": "code",
      "source": [
        "shap.initjs()\n",
        "shap.force_plot(explainer.expected_value[0], shap_values[0], X_sampled)"
      ],
      "metadata": {
        "id": "XNji0e1kBKH5"
      },
      "execution_count": null,
      "outputs": []
    },
    {
      "cell_type": "code",
      "source": [
        "shap.initjs()\n",
        "shap.force_plot(explainer.expected_value[1], shap_values[1], X_sampled)"
      ],
      "metadata": {
        "id": "u0ApQf_dBKH6"
      },
      "execution_count": null,
      "outputs": []
    },
    {
      "cell_type": "code",
      "source": [
        "shap.initjs()\n",
        "shap.force_plot(explainer.expected_value[2], shap_values[2], X_sampled)"
      ],
      "metadata": {
        "id": "-GWRfhDZBKH6"
      },
      "execution_count": null,
      "outputs": []
    },
    {
      "cell_type": "code",
      "source": [
        "shap.initjs()\n",
        "shap.force_plot(explainer.expected_value[3], shap_values[3], X_sampled)"
      ],
      "metadata": {
        "id": "u0vpdrz-BKH6"
      },
      "execution_count": null,
      "outputs": []
    },
    {
      "cell_type": "code",
      "source": [
        "shap.summary_plot(shap_values, X_sampled, plot_type=\"bar\")"
      ],
      "metadata": {
        "id": "GbAjQ-laoFjE"
      },
      "execution_count": null,
      "outputs": []
    },
    {
      "cell_type": "markdown",
      "source": [
        "### Sbert with XGBoost\n",
        "\n",
        "https://paperswithcode.com/sota/sentence-classification-on-acl-arc\n",
        "\n",
        "https://paperswithcode.com/task/sentence-classification"
      ],
      "metadata": {
        "id": "UK8Gy201TMtt"
      }
    },
    {
      "cell_type": "code",
      "source": [
        "sbertxg = SBertXGBoost()"
      ],
      "metadata": {
        "id": "1lJuQQ1MMHHf"
      },
      "execution_count": null,
      "outputs": []
    },
    {
      "cell_type": "code",
      "source": [
        "sbertxg.fit(x, y)"
      ],
      "metadata": {
        "id": "tiqks6ekMQ2R"
      },
      "execution_count": null,
      "outputs": []
    },
    {
      "cell_type": "code",
      "source": [
        "y_predicted = sbertxg.predict(x_val)"
      ],
      "metadata": {
        "id": "7mWFJpfIMTxf"
      },
      "execution_count": null,
      "outputs": []
    },
    {
      "cell_type": "code",
      "source": [
        "print(classification_report(list(map(lambda e: d[e], y_val)), list(map(lambda e: d[e], y_predicted))))"
      ],
      "metadata": {
        "id": "UM1THn9qMY5P"
      },
      "execution_count": null,
      "outputs": []
    },
    {
      "cell_type": "markdown",
      "source": [
        "## GATE"
      ],
      "metadata": {
        "id": "n_iUtAGHxusN"
      }
    },
    {
      "cell_type": "markdown",
      "source": [
        "Gated Feature Learning Units select what information to use from the raw features to create the best set of features. This approach could be beneficial in our case were we have pretty high intra class similarity.\n",
        "This learned representation is then processed using an ensemble of Differentiable Non Linear Decision Trees. During the last step the output of all the trees are re-weighted using self-attention for the final prediction of the model.\n"
      ],
      "metadata": {
        "id": "h08XLYt8xiCa"
      }
    },
    {
      "cell_type": "code",
      "source": [
        "# Train e test D1\n",
        "df_train, df_val = manage_dataset(setup=0, real = 1)\n",
        "\n",
        "# Train e test D2\n",
        "# df_train, df_val = manage_dataset(setup=1, real = 1)\n",
        "\n",
        "# Train D1 e test D2\n",
        "#df_train, df_val = manage_dataset(setup=2, real = 1)\n",
        "\n",
        "# Train D2 e test D1\n",
        "#df_train, df_val = manage_dataset(setup=3, real = 1)"
      ],
      "metadata": {
        "id": "uy11PCy20FMX"
      },
      "execution_count": null,
      "outputs": []
    },
    {
      "cell_type": "code",
      "source": [
        "cat_cols = [\n",
        "    \"command\",\n",
        "    \"name\",\n",
        "    \"account\",\n",
        "    \"partition\",\n",
        "    \"qos\",\n",
        "    \"req_nodes\"\n",
        "    ]\n",
        "num_cols = [\n",
        "    \"user_id\",\n",
        "    \"group_id\",\n",
        "    \"cpus_per_task\",\n",
        "    \"time_limit\",\n",
        "    \"cpu\",\n",
        "    \"mem\",\n",
        "    \"node\",\n",
        "    \"gres/gpu\",\n",
        "]\n",
        "target=[\"job_state\"]"
      ],
      "metadata": {
        "id": "Zgm9dQ_gyGdp"
      },
      "execution_count": null,
      "outputs": []
    },
    {
      "cell_type": "code",
      "source": [
        "data_config = DataConfig(\n",
        "    target=target, #target should always be a list.\n",
        "    continuous_cols=num_cols,\n",
        "    categorical_cols=cat_cols,\n",
        ")\n",
        "\n",
        "trainer_config = TrainerConfig(\n",
        "    auto_lr_find=True, # Runs the LRFinder to automatically derive a learning rate\n",
        "    batch_size=128,\n",
        "    max_epochs=10,\n",
        "    early_stopping=\"valid_loss\", # Monitor valid_loss for early stopping\n",
        "    early_stopping_mode = \"min\", # Set the mode as min because for val_loss, lower is better\n",
        "    early_stopping_patience=1, # No. of epochs of degradation training will wait before terminating\n",
        "    checkpoints=\"valid_loss\", # Save best checkpoint monitoring val_loss\n",
        "    load_best=True, # After training, load the best checkpoint\n",
        ")\n",
        "\n",
        "optimizer_config = OptimizerConfig()\n",
        "\n",
        "head_config = LinearHeadConfig(\n",
        "    layers=\"\", # No additional layer in head, just a mapping layer to output_dim\n",
        "    dropout=0.2,\n",
        "    initialization=\"kaiming\"\n",
        ").__dict__ # Convert to dict to pass to the model config (OmegaConf doesn't accept objects)"
      ],
      "metadata": {
        "id": "teuTIETIx54l"
      },
      "execution_count": null,
      "outputs": []
    },
    {
      "cell_type": "code",
      "source": [
        "model_config = GatedAdditiveTreeEnsembleConfig(\n",
        "    task=\"classification\",\n",
        "    learning_rate = 1e-3,\n",
        "    head = \"LinearHead\", #Linear Head\n",
        "    head_config = head_config, # Linear Head Config\n",
        ")\n",
        "\n",
        "tabular_model = TabularModel(\n",
        "    data_config=data_config,\n",
        "    model_config=model_config,\n",
        "    optimizer_config=optimizer_config,\n",
        "    trainer_config=trainer_config,\n",
        ")\n",
        "tabular_model.fit(train=df_train.iloc[:,1:])\n",
        "#tabular_model.evaluate(df_val.iloc[:,1:])"
      ],
      "metadata": {
        "id": "Yiewlqlo0RSx"
      },
      "execution_count": null,
      "outputs": []
    },
    {
      "cell_type": "code",
      "source": [
        "y_ga = tabular_model.predict(df_val.iloc[:,1:])"
      ],
      "metadata": {
        "id": "BwXsAIhVAKhA"
      },
      "execution_count": null,
      "outputs": []
    },
    {
      "cell_type": "code",
      "source": [
        "y_ga"
      ],
      "metadata": {
        "id": "00N9IVhIEx61"
      },
      "execution_count": null,
      "outputs": []
    },
    {
      "cell_type": "code",
      "source": [
        "print(classification_report(list(map(lambda e: d[e], df_val.iloc[:,15])), list(map(lambda e: d[e], y_ga[\"prediction\"]))))"
      ],
      "metadata": {
        "id": "UXdnQTWbASfR"
      },
      "execution_count": null,
      "outputs": []
    },
    {
      "cell_type": "markdown",
      "source": [
        "### SHAP explainability"
      ],
      "metadata": {
        "id": "FhMIB6lnCf29"
      }
    },
    {
      "cell_type": "code",
      "source": [
        "def f(X):\n",
        "    # return tabular_model.predict(X)['prediction']\n",
        "    return tabular_model.predict(pd.DataFrame(X, columns = df_train.iloc[:50,1:].columns))['prediction']"
      ],
      "metadata": {
        "id": "-dAlsiUuD5X6"
      },
      "execution_count": null,
      "outputs": []
    },
    {
      "cell_type": "code",
      "source": [
        "explainer = shap.KernelExplainer(f, df_train.iloc[:50,1:])"
      ],
      "metadata": {
        "id": "reeMYatiDJV2"
      },
      "execution_count": null,
      "outputs": []
    },
    {
      "cell_type": "code",
      "source": [
        "shap.initjs()\n",
        "shap_values = explainer.shap_values(df_train.iloc[299,1:], nsamples=500)\n",
        "shap.force_plot(explainer.expected_value, shap_values, df_train.iloc[299,1:])"
      ],
      "metadata": {
        "id": "K9MlbUowDJV3"
      },
      "execution_count": null,
      "outputs": []
    },
    {
      "cell_type": "code",
      "source": [
        "shap_values50 = explainer.shap_values(df_train.iloc[:20,1:], nsamples=30)"
      ],
      "metadata": {
        "id": "Tfmaz3U5ecG6"
      },
      "execution_count": null,
      "outputs": []
    },
    {
      "cell_type": "markdown",
      "source": [
        "startyed fit 12:53\n",
        "ep 1 done 13:26\n",
        "pred started rem 42 min done\n",
        "explaining"
      ],
      "metadata": {
        "id": "i4elxoxEGWhL"
      }
    },
    {
      "cell_type": "code",
      "source": [
        "shap.initjs()\n",
        "shap.force_plot(explainer.expected_value, shap_values50, df_train.iloc[:20,1:])"
      ],
      "metadata": {
        "id": "0NtVJot4dkt9"
      },
      "execution_count": null,
      "outputs": []
    },
    {
      "cell_type": "code",
      "source": [
        "shap.summary_plot(shap_values50, df_train.iloc[:20,1:], plot_type=\"bar\")"
      ],
      "metadata": {
        "id": "RDeZBmLooLnq"
      },
      "execution_count": null,
      "outputs": []
    },
    {
      "cell_type": "markdown",
      "source": [
        "## TabTransformer"
      ],
      "metadata": {
        "id": "udwsIgIlzov_"
      }
    },
    {
      "cell_type": "markdown",
      "source": [
        "### Tab configs"
      ],
      "metadata": {
        "id": "sYVrbFBVFSKA"
      }
    },
    {
      "cell_type": "code",
      "source": [
        "df_train.drop(['job_id'], axis=1, inplace=True)\n",
        "df_val.drop(['job_id'], axis=1, inplace=True)"
      ],
      "metadata": {
        "id": "AuBro4-H0bMF"
      },
      "execution_count": null,
      "outputs": []
    },
    {
      "cell_type": "code",
      "source": [
        "train_data_file = \"train_data.csv\"\n",
        "test_data_file = \"test_data.csv\"\n",
        "df_train['user_id']= pd.to_numeric(df_train['user_id'])\n",
        "df_train['group_id']= pd.to_numeric(df_train['user_id'])\n",
        "df_train.to_csv(train_data_file, index=False, header=False)\n",
        "df_val.to_csv(test_data_file, index=False, header=False)"
      ],
      "metadata": {
        "id": "ejRMn40iN3wa"
      },
      "execution_count": null,
      "outputs": []
    },
    {
      "cell_type": "code",
      "source": [
        "# A list of the numerical feature names.\n",
        "NUMERIC_FEATURE_NAMES = [\n",
        "    \"user_id\",\n",
        "    \"group_id\",\n",
        "    \"cpus_per_task\",\n",
        "    \"time_limit\",\n",
        "    \"cpu\",\n",
        "    \"mem\",\n",
        "    \"node\",\n",
        "    \"gres/gpu\",\n",
        "]\n",
        "\n",
        "df_full = pd.concat([df_train, df_val], axis=0)\n",
        "# A dictionary of the categorical features and their vocabulary.\n",
        "CATEGORICAL_FEATURES_WITH_VOCABULARY = {\n",
        "    \"command\": sorted(list(df_full[\"command\"].unique())),\n",
        "    \"name\": sorted(list(df_full[\"name\"].unique())),\n",
        "    \"account\": sorted(list(df_full[\"account\"].unique())),\n",
        "    \"partition\": sorted(list(df_full[\"partition\"].unique())),\n",
        "    \"qos\": sorted(list(df_full[\"qos\"].unique())),\n",
        "    \"req_nodes\": sorted(list(df_full[\"req_nodes\"].unique()))\n",
        "}\n",
        "# Name of the column to be used as instances weight.\n",
        "# WEIGHT_COLUMN_NAME = \"fnlwgt\"\n",
        "# A list of the categorical feature names.\n",
        "CATEGORICAL_FEATURE_NAMES = list(CATEGORICAL_FEATURES_WITH_VOCABULARY.keys())\n",
        "# A list of all the input features.\n",
        "FEATURE_NAMES = NUMERIC_FEATURE_NAMES + CATEGORICAL_FEATURE_NAMES\n",
        "# The name of the target feature.\n",
        "TARGET_FEATURE_NAME = \"job_state\"\n",
        "# A list of column default values for each feature.\n",
        "COLUMN_DEFAULTS = [\n",
        "    [0.0] if feature_name in NUMERIC_FEATURE_NAMES + [TARGET_FEATURE_NAME]\n",
        "    else [\"\"]\n",
        "    for feature_name in df_train.columns\n",
        "]\n",
        "# A list of the labels of the target features.\n",
        "TARGET_LABELS = [0, 1, 2, 3]"
      ],
      "metadata": {
        "id": "Rt5UxPEQzq7H"
      },
      "execution_count": null,
      "outputs": []
    },
    {
      "cell_type": "code",
      "source": [
        "LEARNING_RATE = 0.001\n",
        "WEIGHT_DECAY = 0.0001\n",
        "DROPOUT_RATE = 0.2\n",
        "BATCH_SIZE = 256\n",
        "NUM_EPOCHS = 5\n",
        "\n",
        "NUM_TRANSFORMER_BLOCKS = 3  # Number of transformer blocks. #3\n",
        "NUM_HEADS = 4  # Number of attention heads. #4\n",
        "EMBEDDING_DIMS = 16  # Embedding dimensions of the categorical features. #16\n",
        "MLP_HIDDEN_UNITS_FACTORS = [\n",
        "    2,\n",
        "    1,\n",
        "]  # MLP hidden layer units, as factors of the number of inputs.\n",
        "NUM_MLP_BLOCKS = 2  # Number of MLP blocks in the baseline model."
      ],
      "metadata": {
        "id": "K-9eo1Qn2CD7"
      },
      "execution_count": null,
      "outputs": []
    },
    {
      "cell_type": "markdown",
      "source": [
        "### Tab utils"
      ],
      "metadata": {
        "id": "2Fjg_EF1FYtB"
      }
    },
    {
      "cell_type": "code",
      "source": [
        "def get_dataset_from_pd(csv_file_path, batch_size=128, shuffle=False):\n",
        "    dataset = tf.data.experimental.make_csv_dataset(\n",
        "        csv_file_path,\n",
        "        batch_size=batch_size,\n",
        "        column_names=df_train.columns,\n",
        "        column_defaults=COLUMN_DEFAULTS,\n",
        "        label_name=TARGET_FEATURE_NAME,\n",
        "        num_epochs=1,\n",
        "        header=False,\n",
        "        na_value=\"?\",\n",
        "        shuffle=shuffle,\n",
        "    )\n",
        "    return dataset.cache()"
      ],
      "metadata": {
        "id": "CNODYoVQ2TSE"
      },
      "execution_count": null,
      "outputs": []
    },
    {
      "cell_type": "code",
      "source": [
        "def run_experiment(\n",
        "    model,\n",
        "    train_data_file,\n",
        "    test_data_file,\n",
        "    num_epochs,\n",
        "    learning_rate,\n",
        "    weight_decay,\n",
        "    batch_size,\n",
        "):\n",
        "\n",
        "    optimizer = tfa.optimizers.AdamW(\n",
        "        learning_rate=learning_rate, weight_decay=weight_decay\n",
        "    )\n",
        "\n",
        "    model.compile(\n",
        "        optimizer=optimizer,\n",
        "        loss=tf.keras.losses.SparseCategoricalCrossentropy(),\n",
        "        metrics=[tf.keras.metrics.SparseCategoricalAccuracy(name=\"accuracy\")],\n",
        "    )\n",
        "\n",
        "    train_dataset = get_dataset_from_pd(train_data_file, batch_size, shuffle=True)\n",
        "    validation_dataset = get_dataset_from_pd(test_data_file, batch_size)\n",
        "\n",
        "    print(\"Start training the model...\")\n",
        "    history = model.fit(\n",
        "        train_dataset, epochs=num_epochs, validation_data=validation_dataset\n",
        "    )\n",
        "    print(\"Model training finished\")\n",
        "\n",
        "    _, accuracy = model.evaluate(validation_dataset, verbose=0)\n",
        "\n",
        "    print(f\"Validation accuracy: {round(accuracy * 100, 2)}%\")\n",
        "\n",
        "    return history"
      ],
      "metadata": {
        "id": "aHsXVdy93Zj7"
      },
      "execution_count": null,
      "outputs": []
    },
    {
      "cell_type": "code",
      "source": [
        "def create_model_inputs():\n",
        "    inputs = {}\n",
        "    for feature_name in FEATURE_NAMES:\n",
        "        if feature_name in NUMERIC_FEATURE_NAMES:\n",
        "            inputs[feature_name] = tf.keras.layers.Input(\n",
        "                name=feature_name, shape=(), dtype=tf.float32\n",
        "            )\n",
        "        else:\n",
        "            inputs[feature_name] = tf.keras.layers.Input(\n",
        "                name=feature_name, shape=(), dtype=tf.string\n",
        "            )\n",
        "    return inputs"
      ],
      "metadata": {
        "id": "-19AfsxX4ANq"
      },
      "execution_count": null,
      "outputs": []
    },
    {
      "cell_type": "code",
      "source": [
        "def encode_inputs(inputs, embedding_dims):\n",
        "\n",
        "    encoded_categorical_feature_list = []\n",
        "    numerical_feature_list = []\n",
        "\n",
        "    for feature_name in inputs:\n",
        "        if feature_name in CATEGORICAL_FEATURE_NAMES:\n",
        "\n",
        "            # Get the vocabulary of the categorical feature.\n",
        "            vocabulary = CATEGORICAL_FEATURES_WITH_VOCABULARY[feature_name]\n",
        "\n",
        "            # Create a lookup to convert string values to an integer indices.\n",
        "            # Since we are not using a mask token nor expecting any out of vocabulary\n",
        "            # (oov) token, we set mask_token to None and  num_oov_indices to 0.\n",
        "            lookup = tf.keras.layers.StringLookup(\n",
        "                vocabulary=vocabulary,\n",
        "                mask_token=None,\n",
        "                num_oov_indices=0,\n",
        "                output_mode=\"int\",\n",
        "            )\n",
        "\n",
        "            # Convert the string input values into integer indices.\n",
        "            encoded_feature = lookup(inputs[feature_name])\n",
        "\n",
        "            # Create an embedding layer with the specified dimensions.\n",
        "            embedding = tf.keras.layers.Embedding(\n",
        "                input_dim=len(vocabulary), output_dim=embedding_dims\n",
        "            )\n",
        "\n",
        "            # Convert the index values to embedding representations.\n",
        "            encoded_categorical_feature = embedding(encoded_feature)\n",
        "            encoded_categorical_feature_list.append(encoded_categorical_feature)\n",
        "\n",
        "        else:\n",
        "\n",
        "            # Use the numerical features as-is.\n",
        "            numerical_feature = tf.expand_dims(inputs[feature_name], -1)\n",
        "            numerical_feature_list.append(numerical_feature)\n",
        "\n",
        "    return encoded_categorical_feature_list, numerical_feature_list"
      ],
      "metadata": {
        "id": "ooY-74HX4D-L"
      },
      "execution_count": null,
      "outputs": []
    },
    {
      "cell_type": "code",
      "source": [
        "def create_mlp(hidden_units, dropout_rate, activation, normalization_layer, name=None):\n",
        "\n",
        "    mlp_layers = []\n",
        "    for units in hidden_units:\n",
        "        mlp_layers.append(normalization_layer),\n",
        "        mlp_layers.append(layers.Dense(units, activation=activation))\n",
        "        mlp_layers.append(layers.Dropout(dropout_rate))\n",
        "\n",
        "    return keras.Sequential(mlp_layers, name=name)"
      ],
      "metadata": {
        "id": "JYEE5qno4Xih"
      },
      "execution_count": null,
      "outputs": []
    },
    {
      "cell_type": "code",
      "source": [
        "def create_tabtransformer_classifier(\n",
        "    num_transformer_blocks,\n",
        "    num_heads,\n",
        "    embedding_dims,\n",
        "    mlp_hidden_units_factors,\n",
        "    dropout_rate,\n",
        "    use_column_embedding=False,\n",
        "):\n",
        "\n",
        "    # Create model inputs.\n",
        "    inputs = create_model_inputs()\n",
        "    # encode features.\n",
        "    encoded_categorical_feature_list, numerical_feature_list = encode_inputs(\n",
        "        inputs, embedding_dims\n",
        "    )\n",
        "    # Stack categorical feature embeddings for the Tansformer.\n",
        "    encoded_categorical_features = tf.stack(encoded_categorical_feature_list, axis=1)\n",
        "    # Concatenate numerical features.\n",
        "    numerical_features = layers.concatenate(numerical_feature_list)\n",
        "\n",
        "    # Add column embedding to categorical feature embeddings.\n",
        "    if use_column_embedding:\n",
        "        num_columns = encoded_categorical_features.shape[1]\n",
        "        column_embedding = layers.Embedding(\n",
        "            input_dim=num_columns, output_dim=embedding_dims\n",
        "        )\n",
        "        column_indices = tf.range(start=0, limit=num_columns, delta=1)\n",
        "        encoded_categorical_features = encoded_categorical_features + column_embedding(\n",
        "            column_indices\n",
        "        )\n",
        "\n",
        "    # Create multiple layers of the Transformer block.\n",
        "    for block_idx in range(num_transformer_blocks):\n",
        "        # Create a multi-head attention layer.\n",
        "        attention_output = layers.MultiHeadAttention(\n",
        "            num_heads=num_heads,\n",
        "            key_dim=embedding_dims,\n",
        "            dropout=dropout_rate,\n",
        "            name=f\"multihead_attention_{block_idx}\",\n",
        "        )(encoded_categorical_features, encoded_categorical_features)\n",
        "        # Skip connection 1.\n",
        "        x = layers.Add(name=f\"skip_connection1_{block_idx}\")(\n",
        "            [attention_output, encoded_categorical_features]\n",
        "        )\n",
        "        # Layer normalization 1.\n",
        "        x = layers.LayerNormalization(name=f\"layer_norm1_{block_idx}\", epsilon=1e-6)(x)\n",
        "        # Feedforward.\n",
        "        feedforward_output = create_mlp(\n",
        "            hidden_units=[embedding_dims],\n",
        "            dropout_rate=dropout_rate,\n",
        "            activation=keras.activations.gelu,\n",
        "            normalization_layer=layers.LayerNormalization(epsilon=1e-6),\n",
        "            name=f\"feedforward_{block_idx}\",\n",
        "        )(x)\n",
        "        # Skip connection 2.\n",
        "        x = layers.Add(name=f\"skip_connection2_{block_idx}\")([feedforward_output, x])\n",
        "        # Layer normalization 2.\n",
        "        encoded_categorical_features = layers.LayerNormalization(\n",
        "            name=f\"layer_norm2_{block_idx}\", epsilon=1e-6\n",
        "        )(x)\n",
        "\n",
        "    # Flatten the \"contextualized\" embeddings of the categorical features.\n",
        "    categorical_features = layers.Flatten()(encoded_categorical_features)\n",
        "    # Apply layer normalization to the numerical features.\n",
        "    numerical_features = layers.LayerNormalization(epsilon=1e-6)(numerical_features)\n",
        "    # Prepare the input for the final MLP block.\n",
        "    features = layers.concatenate([categorical_features, numerical_features])\n",
        "\n",
        "    # Compute MLP hidden_units.\n",
        "    mlp_hidden_units = [\n",
        "        factor * features.shape[-1] for factor in mlp_hidden_units_factors\n",
        "    ]\n",
        "    # Create final MLP.\n",
        "    features = create_mlp(\n",
        "        hidden_units=mlp_hidden_units,\n",
        "        dropout_rate=dropout_rate,\n",
        "        activation=keras.activations.selu,\n",
        "        normalization_layer=layers.BatchNormalization(),\n",
        "        name=\"MLP\",\n",
        "    )(features)\n",
        "\n",
        "    # Add a sigmoid as a binary classifer.\n",
        "    outputs = layers.Dense(units=4, activation=\"softmax\", name=\"softmax\")(features)\n",
        "    model = keras.Model(inputs=inputs, outputs=outputs)\n",
        "    return model"
      ],
      "metadata": {
        "id": "tDNtseoj4kSr"
      },
      "execution_count": null,
      "outputs": []
    },
    {
      "cell_type": "markdown",
      "source": [
        "### Training"
      ],
      "metadata": {
        "id": "ubzUgbNCFcXg"
      }
    },
    {
      "cell_type": "code",
      "source": [
        "tabtransformer_model = create_tabtransformer_classifier(\n",
        "    num_transformer_blocks=NUM_TRANSFORMER_BLOCKS,\n",
        "    num_heads=NUM_HEADS,\n",
        "    embedding_dims=EMBEDDING_DIMS,\n",
        "    mlp_hidden_units_factors=MLP_HIDDEN_UNITS_FACTORS,\n",
        "    dropout_rate=DROPOUT_RATE,\n",
        ")\n",
        "\n",
        "print(\"Total model weights:\", tabtransformer_model.count_params())\n",
        "keras.utils.plot_model(tabtransformer_model, show_shapes=True, rankdir=\"LR\")"
      ],
      "metadata": {
        "id": "QYuFaoIIoG5v"
      },
      "execution_count": null,
      "outputs": []
    },
    {
      "cell_type": "code",
      "source": [
        "tf.debugging.disable_traceback_filtering()\n",
        "history = run_experiment(\n",
        "    model=tabtransformer_model,\n",
        "    train_data_file=train_data_file,\n",
        "    test_data_file=test_data_file,\n",
        "    num_epochs=NUM_EPOCHS,\n",
        "    learning_rate=LEARNING_RATE,\n",
        "    weight_decay=WEIGHT_DECAY,\n",
        "    batch_size=BATCH_SIZE,\n",
        ")"
      ],
      "metadata": {
        "id": "njiEkCu_4z7k"
      },
      "execution_count": null,
      "outputs": []
    },
    {
      "cell_type": "code",
      "source": [
        "y_tab = tabtransformer_model.predict(get_dataset_from_pd(test_data_file))"
      ],
      "metadata": {
        "id": "KL10Y0dSWVNJ"
      },
      "execution_count": null,
      "outputs": []
    },
    {
      "cell_type": "code",
      "source": [
        "print(classification_report(list(map(lambda e: d[e], df_val.iloc[:,14])), list(map(lambda e: d[e], np.argmax(y_tab, axis=1)))))"
      ],
      "metadata": {
        "id": "V0e10skbXQyJ"
      },
      "execution_count": null,
      "outputs": []
    },
    {
      "cell_type": "markdown",
      "source": [
        "# References\n",
        "\n",
        "* https://www.ncbi.nlm.nih.gov/pmc/articles/PMC8914926/\n",
        "\n",
        "* https://arxiv.org/pdf/2301.05176.pdf\n",
        "\n",
        "* https://pdfs.semanticscholar.org/2601/ab02de7563e644fb94604ea7f786900c906a.pdf\n",
        "\n",
        "* https://arxiv.org/abs/1904.09675\n",
        "\n",
        "* https://github.com/yg211/explainable-metrics"
      ],
      "metadata": {
        "id": "wmnuyFv1GiLJ"
      }
    },
    {
      "cell_type": "code",
      "source": [],
      "metadata": {
        "id": "xwQDSGp6l6zY"
      },
      "execution_count": null,
      "outputs": []
    }
  ]
}